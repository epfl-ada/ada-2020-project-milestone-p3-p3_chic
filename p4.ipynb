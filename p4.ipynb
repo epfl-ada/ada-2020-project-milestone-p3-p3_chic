{
 "cells": [
  {
   "cell_type": "markdown",
   "metadata": {},
   "source": [
    "## Reading the data\n",
    "\n",
    "In this notebook, we show how to read the dataset. \n",
    "\n",
    "Our dataset can be found [here](https://data.world/maxstrange/diplomacyboardgame)"
   ]
  },
  {
   "cell_type": "code",
   "execution_count": null,
   "metadata": {},
   "outputs": [],
   "source": [
    "import pandas as pd\n",
    "import time\n",
    "from collections import deque\n",
    "import numpy as np\n",
    "pd.options.mode.chained_assignment = None"
   ]
  },
  {
   "cell_type": "code",
   "execution_count": null,
   "metadata": {},
   "outputs": [],
   "source": [
    "# read the dataframes\n",
    "all_games = pd.read_pickle(\"data/games.pkl\")\n",
    "all_orders = pd.read_pickle(\"data/orders.pkl\")\n",
    "all_players = pd.read_pickle(\"data/players.pkl\")\n",
    "all_turns = pd.read_pickle(\"data/turns.pkl\")\n",
    "all_units = pd.read_pickle(\"data/units.pkl\")"
   ]
  },
  {
   "cell_type": "code",
   "execution_count": null,
   "metadata": {},
   "outputs": [],
   "source": [
    "all_games.head(3)"
   ]
  },
  {
   "cell_type": "markdown",
   "metadata": {},
   "source": [
    "## Detecting betrayal\n",
    "\n",
    "What I want to do here is **to detect betrayals within a game**, using the same definitions as in the paper we have studied. Let's recall a few things, and we will explore the dataset based on those definitions.\n",
    "\n",
    "### What are game actions ? \n",
    "\n",
    "Each player has **units** (one per each city a player controls) and thoses are moved using **orders**. There are 2 kinds of orders: \n",
    "- **support** order: two units join and become bigger (i.e. stronger). One player can support another.\n",
    "- movement: move a unit somewhere. If it meets another player's unit, it will be a **battle**\n",
    "\n",
    "### How to define relationships ? \n",
    "\n",
    "Let's follow the definitions given by the paper.\n",
    "\n",
    "**Act of friendship**: when a player supports another.\n",
    "\n",
    "**Act of hostility**: When a player invades another, or if a player supports an invasion to the other player's territory.\n",
    "\n",
    "**Friendship**: a relationship between two players spanning over 3 seasons containing at least 2 **consecutive and reciprocated** acts of friendships.\n",
    "\n",
    "**Betrayal** / **Broken friendship**: When, after being in a friendship, two players engage in at least 2 acts of hostility. \n",
    "\n",
    "### Additional information required for data-processing\n",
    "\n",
    "It is important to understand the [rules of the game](https://www.playdiplomacy.com/help.php?sub_page=Game_Rules).\n",
    "\n",
    "Here is a list of points we want to raise before starting the programming, obtained from looking at the rules.\n",
    "- Each **year** is breaked down into 2 **seasons**: {'Spring', 'Fall'}.\n",
    "- Each **seasons** is itself divided into several phases, called **turns** (therefore, a year is made of at least 2 turns, and not more than 5)\n",
    "    - **orders**: each player submit orders to all of its units (that can be **hold**, **move**, **support** or **convoy**)\n",
    "    - **retreats**: a phase that happens when some units (called **disloged units**) need to retreat. If they can't, they are destroyed\n",
    "    - **builds**: only happens after the *fall retreat*. Players gain control of SCS they are occupying.\n",
    "- Geographically, the game is divided into **provinces**\n",
    "- some provinces are called **supply centers** (SCS) and to win a **player** must control 18 supply centers.\n",
    "- Each **unit** belongs to a **player** and there can be **only 1 unit** in a province at a time, however **units** can join their force with **support order**.\n",
    "- There are 2 types of **units**:  {'F' or 'A'} for {Fleet, Army}\n",
    "- Each **player** is characterized by its country, encoded by a letter: {E,F,I,G,A,T,R} standing for {England, France, Italy, Germany, Austria, Turkey, Russia}\n",
    "\n",
    "We also give an clarification for the rows of 'all_orders' (i.e. the proper orders) because we will be using those quite a lot, and it can be hard to understand. \n",
    "- orders are defined by a **game_id**, a **unit_id** and **turn_number** (which makes sense, considering all the above points). \n",
    "- each order has a field **location** which is the province of origin of the unit\n",
    "- depending on the **unit_order**, here is the description of the fields\n",
    "\n",
    "| unit_order | location                 | target                            | target_dest     |\n",
    "| ---------- | ------------------------ | --------------------------------- | --------------- |\n",
    "| MOVE       | initial loc. of the unit | loc. to move to                   | null            |\n",
    "| HOLD       | initial loc. of the unit | null                              | null            |\n",
    "| CONVOY     |                          | initial loc.                      | end goal loc.   |\n",
    "| SUPPORT    |                          | loc. of unit to be supported      | its target loc. |\n",
    "| BUILD      | \"\"                       | encoded string like 'army Berlin' |                 |\n",
    "| RETREAT    | initial loc. of the unit | target loc                        |                 |\n",
    "| DESTROY    | initial loc. of the unit |                                   |                 |"
   ]
  },
  {
   "cell_type": "markdown",
   "metadata": {},
   "source": [
    "### What the map looks like ! \n",
    "\n",
    "<img src=\"img/map.png\" width=\"900\">"
   ]
  },
  {
   "cell_type": "markdown",
   "metadata": {},
   "source": [
    "# Discovering the Dataset\n",
    "\n",
    "Now that all of this is well-defined, let's see what we can achieve in the code. As it can be quite hard to see how to do this, let's break this down and look at one game."
   ]
  },
  {
   "cell_type": "code",
   "execution_count": null,
   "metadata": {},
   "outputs": [],
   "source": [
    "# extract one game\n",
    "game = all_games.head(1)\n",
    "game_id = game.iloc[0,0]\n",
    "game"
   ]
  },
  {
   "cell_type": "code",
   "execution_count": null,
   "metadata": {},
   "outputs": [],
   "source": [
    "# for this game, extract turns, orders and units\n",
    "turns = all_turns.query(\"game_id == {}\".format(game_id))\n",
    "orders = all_orders.query(\"game_id == {}\".format(game_id))\n",
    "units = all_units.query(\"game_id == {}\".format(game_id))\n",
    "orders.head()"
   ]
  },
  {
   "cell_type": "markdown",
   "metadata": {},
   "source": [
    "## Finding **acts of friendships**\n",
    "\n",
    "It's firstly defined by a support. However it is not enough: a player could support himself (and that's not a friendship). So we must also look at the **last previous orders** asking to **MOVE** the unit towards the support's **target** destination. This will link to a 'unit_id' (the one that followed this order) and therefore giving access to the country who made the call."
   ]
  },
  {
   "cell_type": "code",
   "execution_count": null,
   "metadata": {},
   "outputs": [],
   "source": [
    "# first we must look at the supports that happened in this game.\n",
    "supports = orders.unit_order == \"SUPPORT\"\n",
    "orders_w_supports = orders[supports]\n",
    "orders_w_supports.sample(3)"
   ]
  },
  {
   "cell_type": "code",
   "execution_count": null,
   "metadata": {},
   "outputs": [],
   "source": [
    "# we want to find the countries of the supported units\n",
    "# let's take one and see what we can do\n",
    "support_order = orders_w_supports.iloc[-4]\n",
    "# support_order = orders_w_supports.head(3).tail(1)\n",
    "support_order"
   ]
  },
  {
   "cell_type": "code",
   "execution_count": null,
   "metadata": {},
   "outputs": [],
   "source": [
    "# Example: there is a support from 'Vienna' to 'Bohemia' \n",
    "# we know that in one of the previous orders, someone made a move with destination 'Vienna'\n",
    "target = support_order.target#.values[0]\n",
    "turn_number = support_order.turn_num#.values[0]\n",
    "move_order = orders.query(\"unit_order == 'MOVE' & target == '{}' & turn_num < {}\".format(target, turn_number)).tail(1)\n",
    "move_order"
   ]
  },
  {
   "cell_type": "code",
   "execution_count": null,
   "metadata": {},
   "outputs": [],
   "source": [
    "unit_id = move_order.unit_id.values[0]\n",
    "move_unit = units.query(\"unit_id == {}\".format(unit_id))\n",
    "move_unit"
   ]
  },
  {
   "cell_type": "markdown",
   "metadata": {},
   "source": [
    "We see that rusian was the country who had moved it's army there the last time before a support happened. Hence, 'Russia is the supported Country'."
   ]
  },
  {
   "cell_type": "code",
   "execution_count": null,
   "metadata": {},
   "outputs": [],
   "source": [
    "# Let's look at the country who did the support\n",
    "unit_id = support_order.unit_id# .values[0]\n",
    "support_unit = units.query(\"unit_id == {}\".format(unit_id))\n",
    "support_unit"
   ]
  },
  {
   "cell_type": "markdown",
   "metadata": {},
   "source": [
    "As it turns out this **is** an act of friendship: Russia was supported by Austria, when it moved from Vienna to Bohemia, by Austrian soldiers who were in Galicia. As we can see on the map, this is perfectly coherent with the geographical position of provinces."
   ]
  },
  {
   "cell_type": "markdown",
   "metadata": {},
   "source": [
    "## A little data pre-processing won't hurt us\n",
    "\n",
    "Now is when we realize it would be nice to have an extra information about orders: **what country passed this order ?**. This can be seen as a pre-processing step, since it will be computed only once. \n",
    "\n",
    "As we will see later on, we will also need the year and the season at which the order was passed, in order to find friendships with more precisions than if we use only 'year' as indicator of when an order happens. Here is how we can encode this: \n",
    "- the spring of a year is writen as the year, for instance 'Spring 1904' = 1904\n",
    "- the fall of the same year is written as the year + 0.5, for instance 'Fall 1904' = 1904.5"
   ]
  },
  {
   "cell_type": "code",
   "execution_count": null,
   "metadata": {},
   "outputs": [],
   "source": [
    "# compute the country who emitted each order \n",
    "countries = orders.unit_id.apply(lambda x: units[[\"unit_id\", \"country\"]].query(\"unit_id == {}\".format(x)).country.item())\n",
    "# compute the 'encoded year' at which each order was passed\n",
    "turns[\"season_encoded\"] = turns[\"year\"] + 0.5 * (turns[\"season\"] == \"Fall\")\n",
    "years = orders.turn_num.apply(lambda x: turns.query(\"turn_num == {}\".format(x)).season_encoded.item())\n",
    "# update the orders\n",
    "orders[\"country\"] = countries\n",
    "orders[\"year\"] = years"
   ]
  },
  {
   "cell_type": "markdown",
   "metadata": {},
   "source": [
    "Finally, a last step we will need is more information about the 'target country'. When an order is passed, there is often another country located where the order's target is. This information is really important to us. Let's find it here."
   ]
  },
  {
   "cell_type": "code",
   "execution_count": null,
   "metadata": {},
   "outputs": [],
   "source": [
    "def get_target_country(order):\n",
    "    \"\"\"\n",
    "    Given an order MOVE or SUPPORT, it returns the country that controls the targeted province.\n",
    "    The function looks at 'the last successful move towards the targetted province'.\n",
    "    If none is found, returns None.\n",
    "    If order is not MOVE or SUPPORT, it returns empty string.\n",
    "    \"\"\"\n",
    "    if order.unit_order not in [\"MOVE\", \"SUPPORT\"]: return \"\"\n",
    "    # get the last move orders to this province\n",
    "    q = \"(unit_order == 'MOVE' | unit_order == 'RETREAT') & success == 1 & target == '{}' & turn_num < {}\".format(order.target, order.turn_num)\n",
    "    last_move_orders = orders.query(q)\n",
    "    if len(last_move_orders):\n",
    "        # extract the order\n",
    "        last_move_order = last_move_orders.iloc[-1]\n",
    "        return last_move_order.country\n",
    "    else:\n",
    "        # this is when there never was a successful move toward this \n",
    "        return \"None\""
   ]
  },
  {
   "cell_type": "code",
   "execution_count": null,
   "metadata": {},
   "outputs": [],
   "source": [
    "# get target country\n",
    "targets = orders.apply(get_target_country, axis = 1)\n",
    "orders[\"target_country\"] = targets\n",
    "orders.sample(5)"
   ]
  },
  {
   "cell_type": "markdown",
   "metadata": {},
   "source": [
    "## Acts of **friendships** and Acts of **hostility**\n",
    "\n",
    "### Finding **acts of friendship**\n",
    "\n",
    "This function is just a rewriting of all the code which was presented above.\n",
    "\n",
    "Note that we don't add the query criteria 'success == 1' because it's not the result which defines the intention of the act. You can plan to attack someone and fail, you will still have performed a hostile action toward the other player."
   ]
  },
  {
   "cell_type": "code",
   "execution_count": null,
   "metadata": {},
   "outputs": [],
   "source": [
    "def is_order_act_of_friendship(support_order):\n",
    "    # only interested in SUPPORT orders\n",
    "    if support_order.unit_order != \"SUPPORT\": return False\n",
    "    if support_order.target_country == \"None\": return False\n",
    "    return support_order.country != support_order.target_country\n",
    "    \n",
    "    \n",
    "    \n",
    "    # get the last move order to this province\n",
    "    #move_orders = orders.query(\"(unit_order == 'MOVE' | unit_order == 'RETREAT') & success == 1 & target == '{}' & turn_num < {}\".format(support_order.target, support_order.turn_num))\n",
    "    #if not len(move_orders): return False\n",
    "    # look if the last move toward this province came from another country / player\n",
    "    #move_order = move_orders.iloc[-1]\n",
    "    #print(move_order)\n",
    "    #return move_order.country != support_order.country    "
   ]
  },
  {
   "cell_type": "code",
   "execution_count": null,
   "metadata": {},
   "outputs": [],
   "source": [
    "# so we may add this to the orders dataframe\n",
    "acts_of_friendships = orders.apply(is_order_act_of_friendship, axis = 1)\n",
    "acts_of_friendships.value_counts()"
   ]
  },
  {
   "cell_type": "markdown",
   "metadata": {},
   "source": [
    "Good news : it's working. As we see, there is another column 'acts_friendships' which tell if this order was an act of friendships-\n",
    "\n",
    "### Finding **acts of hostility**\n",
    "\n",
    "The code is quite the same, just the logic is a little tweaked. \n",
    "\n",
    "We are looking at all **orders** with **unit_order** that is **MOVE** (*this is how and attack starts*), where the **target** is a province with a unit of another player. Again, the tricky part is to see if there is another player's unit located at this province. We must look at all **previous orders** with the same **target** done by a unit from **another country**."
   ]
  },
  {
   "cell_type": "code",
   "execution_count": null,
   "metadata": {},
   "outputs": [],
   "source": [
    "def is_move_act_of_hostility(move_order):\n",
    "    if move_order.unit_order != \"MOVE\": return False\n",
    "    if move_order.target_country == \"None\": return False\n",
    "    return move_order.country != move_order.target_country\n",
    "    \n",
    "    # get the last move orders to this province\n",
    "    #q = \"unit_order == 'MOVE'  & target == '{}' & turn_num < {}\".format(move_order.target, move_order.turn_num)\n",
    "    #last_move_orders = orders.query(q)\n",
    "    \n",
    "    #if len(last_move_orders):\n",
    "    #    last_move_order = last_move_orders.iloc[-1]\n",
    "    #    return move_order.country != last_move_order.country\n",
    "\n",
    "    #return False "
   ]
  },
  {
   "cell_type": "code",
   "execution_count": null,
   "metadata": {},
   "outputs": [],
   "source": [
    "acts_of_hostility = orders.apply(is_move_act_of_hostility, axis = 1)\n",
    "acts_of_hostility.value_counts()"
   ]
  },
  {
   "cell_type": "markdown",
   "metadata": {},
   "source": [
    "## Who is friend with who\n",
    "\n",
    "Now that we have classified our orders, let's find friends within our game. Coming back to our definition:\n",
    "\n",
    "> Friendship is a relationship between two players spanning over 3 seasons containing at least 2 consecutives and reciprocated acts of friendships.\n",
    "\n",
    "The difficulty comes from the identification of the country who received the support. Let's add another function to solve this problem which we will be able to call for both the acts of friendships and the acts of hostility. In both case, it's the **target province** which matters."
   ]
  },
  {
   "cell_type": "code",
   "execution_count": null,
   "metadata": {},
   "outputs": [],
   "source": [
    "friendly_orders = orders[acts_of_friendships]\n",
    "hostile_orders = orders[acts_of_hostility]\n",
    "\n",
    "#supported_countries = friendly_orders.apply(get_target_country, axis = 1)\n",
    "#attacked_countries = hostile_orders.apply(get_target_country, axis = 1)\n",
    "#friendly_orders[\"target_country\"] = supported_countries\n",
    "#hostile_orders[\"target_country\"] = attacked_countries\n",
    "\n",
    "friendly_orders.head()"
   ]
  },
  {
   "cell_type": "markdown",
   "metadata": {},
   "source": [
    "For each order in the above set , assuming the 'supporting country' is X and the 'supported country' is Y, we must look if there exist in the last 2 years: \n",
    "- at least 1 previous order with 'X supports Y'\n",
    "- at least 2 previous orders with 'Y supports X'\n",
    "\n",
    "Those acts of frienships are part of a **friendships**.\n",
    "\n",
    "Let's create a table which will recap all friendships and potential betrayal, and then let's fill it up with the data already extracted. "
   ]
  },
  {
   "cell_type": "code",
   "execution_count": null,
   "metadata": {},
   "outputs": [],
   "source": [
    "def get_countries_code(x,y):\n",
    "    \"\"\"Given two countries, it returns another string being their letter sorted alphabetically\"\"\"\n",
    "    return ''.join(sorted(x + y))"
   ]
  },
  {
   "cell_type": "code",
   "execution_count": null,
   "metadata": {},
   "outputs": [],
   "source": [
    "countries = ['A', 'E', 'F', 'G', 'I', 'R', 'T']\n",
    "pairs = [x+y for x in countries for y in countries if y > x]\n",
    "years = np.arange(1901, friendly_orders.year.max() + 0.5, 0.5)"
   ]
  },
  {
   "cell_type": "code",
   "execution_count": null,
   "metadata": {},
   "outputs": [],
   "source": [
    "# minimum number of matches to validate the friendship\n",
    "N = 4\n",
    "# create a DF with each possible friendships and each years\n",
    "friendships = pd.DataFrame(columns=pairs, index = years, dtype = np.int8).fillna(0)\n",
    "for i, o in friendly_orders.iterrows():\n",
    "    x = o.country \n",
    "    y = o.target_country\n",
    "    year = o.year\n",
    "    # this line doesn't remove frienships because we are only looking are reciprocal ones\n",
    "    # if y > x: continue\n",
    "    q = \"( year > @year-1.5 & year <= @year)  & ((country == @x & target_country == @y) | (country == @y & target_country == @x) )\"\n",
    "    query = friendly_orders.query(q)\n",
    "    if len(query) >= N:\n",
    "        # Those guys are friends :=) \n",
    "        code = get_countries_code(x,y)\n",
    "        print(len(query), \"matches for \", code, \" in \", o.year)\n",
    "        friendships.loc[o.year-N:o.year, code] = 1\n",
    "\n",
    "cols = [col for col in friendships.columns if np.count_nonzero(friendships[col] != 0)]\n",
    "friendships[cols]"
   ]
  },
  {
   "cell_type": "code",
   "execution_count": null,
   "metadata": {},
   "outputs": [],
   "source": [
    "# minimum number of go\n",
    "N = 1\n",
    "friendships = pd.DataFrame(columns=pairs, index = years, dtype = np.int8).fillna(0)\n",
    "for i, o in friendly_orders.iterrows():\n",
    "    x = o.country \n",
    "    y = o.target_country\n",
    "    # this line doesn't remove frienships because we are only looking are reciprocal ones\n",
    "    if y > x: continue\n",
    "    # criteria 1: 2 others from the other side\n",
    "    query1 = friendly_orders.query(\"year > {} & year <= {} & country == '{}' & target_country == '{}'\".format(o.year-2, o.year, y, x))\n",
    "    if len(query1) >= N:\n",
    "        # criteria 2: 1 other from the same side\n",
    "        query2 = friendly_orders.query(\"year > {} & year <= {} & country == '{}' & target_country == '{}'\".format(o.year-2, o.year, x, y))\n",
    "        if len(query2) >= N:\n",
    "            # Those guys are friends :=) \n",
    "            code = get_countries_code(x,y)\n",
    "            friendships.loc[o.year-N:o.year, code] = 1\n",
    "cols = [col for col in friendships.columns if np.count_nonzero(friendships[col] != 0)]\n",
    "friendships[cols]"
   ]
  },
  {
   "cell_type": "markdown",
   "metadata": {},
   "source": [
    "In this game, Russia and Austria are friends and it seems to be the case from the begining until the end. How about Italie and Austria ? What happened to their friendship after 1905 ? \n",
    "\n",
    "We must also investigate to 'hostile orders' and see if a betrayal happened. "
   ]
  },
  {
   "cell_type": "code",
   "execution_count": null,
   "metadata": {},
   "outputs": [],
   "source": [
    "for i, o in hostile_orders.iterrows():\n",
    "    x = o.country\n",
    "    y = o.target_country\n",
    "    code = get_countries_code(x,y)\n",
    "    if friendships.loc[o.year, code]:\n",
    "        # that means a betrayal have happened !\n",
    "        # we must just verify that another hostile action happened after this\n",
    "        query1 = hostile_orders.query(\"year >= {} & country == '{}' & target_country == '{}' \".format(o.year, x, y))\n",
    "        query2 = hostile_orders.query(\"year >= {} & country == '{}' & target_country == '{}' \".format(o.year, y, x))\n",
    "        friendships.loc[o.year, code] = x \n",
    "        friendships.loc[o.year+0.5:, code] = 0 \n",
    "        print(x, \" attacks \", y, \"in \", o.year)\n",
    "        print(len(query1))\n",
    "        print(len(query2))\n",
    "        \n",
    "# which can be filtered to clomuns where there's someting to look at\n",
    "cols = [col for col in friendships.columns if np.count_nonzero(friendships[col] != 0)]\n",
    "friendships[cols]"
   ]
  },
  {
   "cell_type": "code",
   "execution_count": null,
   "metadata": {},
   "outputs": [],
   "source": [
    "def "
   ]
  },
  {
   "cell_type": "markdown",
   "metadata": {},
   "source": [
    "We see here what happened between Austria and Italy: in the Spring of 1905, Italy betrayed Austria... This is why the friendship ended. "
   ]
  }
 ],
 "metadata": {
  "kernelspec": {
   "display_name": "Python 3",
   "language": "python",
   "name": "python3"
  },
  "language_info": {
   "codemirror_mode": {
    "name": "ipython",
    "version": 3
   },
   "file_extension": ".py",
   "mimetype": "text/x-python",
   "name": "python",
   "nbconvert_exporter": "python",
   "pygments_lexer": "ipython3",
   "version": "3.8.3"
  }
 },
 "nbformat": 4,
 "nbformat_minor": 4
}
