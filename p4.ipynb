{
 "cells": [
  {
   "cell_type": "markdown",
   "metadata": {},
   "source": [
    "## Reading the data\n",
    "\n",
    "In this notebook, we show how to read the dataset. \n",
    "\n",
    "Our dataset can be found [here](https://data.world/maxstrange/diplomacyboardgame).\n",
    "\n",
    "During our analysis, we realised that 'units' have a duplication problem. For several games, all units were replicated. Hence, we remove those. By precaution, we also remove duplicate for orders and for turns. "
   ]
  },
  {
   "cell_type": "code",
   "execution_count": 1,
   "metadata": {},
   "outputs": [],
   "source": [
    "import pandas as pd\n",
    "import time\n",
    "from collections import deque\n",
    "import numpy as np\n",
    "pd.options.mode.chained_assignment = None"
   ]
  },
  {
   "cell_type": "code",
   "execution_count": 2,
   "metadata": {},
   "outputs": [],
   "source": [
    "# read the dataframes\n",
    "all_games = pd.read_pickle(\"data/games.pkl\")\n",
    "all_orders = pd.read_pickle(\"data/orders.pkl\")\n",
    "all_players = pd.read_pickle(\"data/players.pkl\")\n",
    "all_turns = pd.read_pickle(\"data/turns.pkl\")\n",
    "all_units = pd.read_pickle(\"data/units.pkl\")\n",
    "\n",
    "# remove duplicates\n",
    "all_units = all_units.drop_duplicates()"
   ]
  },
  {
   "cell_type": "code",
   "execution_count": 3,
   "metadata": {},
   "outputs": [
    {
     "data": {
      "text/html": [
       "<div>\n",
       "<style scoped>\n",
       "    .dataframe tbody tr th:only-of-type {\n",
       "        vertical-align: middle;\n",
       "    }\n",
       "\n",
       "    .dataframe tbody tr th {\n",
       "        vertical-align: top;\n",
       "    }\n",
       "\n",
       "    .dataframe thead th {\n",
       "        text-align: right;\n",
       "    }\n",
       "</style>\n",
       "<table border=\"1\" class=\"dataframe\">\n",
       "  <thead>\n",
       "    <tr style=\"text-align: right;\">\n",
       "      <th></th>\n",
       "      <th>id</th>\n",
       "      <th>num_turns</th>\n",
       "      <th>num_players</th>\n",
       "    </tr>\n",
       "  </thead>\n",
       "  <tbody>\n",
       "    <tr>\n",
       "      <th>0</th>\n",
       "      <td>37317</td>\n",
       "      <td>166</td>\n",
       "      <td>7</td>\n",
       "    </tr>\n",
       "    <tr>\n",
       "      <th>1</th>\n",
       "      <td>37604</td>\n",
       "      <td>51</td>\n",
       "      <td>7</td>\n",
       "    </tr>\n",
       "    <tr>\n",
       "      <th>2</th>\n",
       "      <td>39337</td>\n",
       "      <td>101</td>\n",
       "      <td>7</td>\n",
       "    </tr>\n",
       "  </tbody>\n",
       "</table>\n",
       "</div>"
      ],
      "text/plain": [
       "      id  num_turns  num_players\n",
       "0  37317        166            7\n",
       "1  37604         51            7\n",
       "2  39337        101            7"
      ]
     },
     "execution_count": 3,
     "metadata": {},
     "output_type": "execute_result"
    }
   ],
   "source": [
    "all_games.head(3)"
   ]
  },
  {
   "cell_type": "markdown",
   "metadata": {},
   "source": [
    "## Detecting betrayal\n",
    "\n",
    "What I want to do here is **to detect betrayals within a game**, using the same definitions as in the paper we have studied. Let's recall a few things, and we will explore the dataset based on those definitions.\n",
    "\n",
    "### What are game actions ? \n",
    "\n",
    "Each player has **units** (one per each city a player controls) and thoses are moved using **orders**. There are 2 kinds of orders: \n",
    "- **support** order: two units join and become bigger (i.e. stronger). One player can support another.\n",
    "- movement: move a unit somewhere. If it meets another player's unit, it will be a **battle**\n",
    "\n",
    "### How to define relationships ? \n",
    "\n",
    "Let's follow the definitions given by the paper.\n",
    "\n",
    "**Act of friendship**: when a player supports another.\n",
    "\n",
    "**Act of hostility**: When a player invades another, or if a player supports an invasion to the other player's territory.\n",
    "\n",
    "**Friendship**: a relationship between two players spanning over 3 seasons containing at least 2 **consecutive and reciprocated** acts of friendships.\n",
    "\n",
    "**Betrayal** / **Broken friendship**: When, after being in a friendship, two players engage in at least 2 acts of hostility. \n",
    "\n",
    "### Additional information required for data-processing\n",
    "\n",
    "It is important to understand the [rules of the game](https://www.playdiplomacy.com/help.php?sub_page=Game_Rules).\n",
    "\n",
    "Here is a list of points we want to raise before starting the programming, obtained from looking at the rules.\n",
    "- Each **year** is breaked down into 2 **seasons**: {'Spring', 'Fall'}.\n",
    "- Each **seasons** is itself divided into several phases, called **turns** (therefore, a year is made of at least 2 turns, and not more than 5):\n",
    "    - **orders**: each player submit orders to all of its units (that can be **hold**, **move**, **support** or **convoy**)\n",
    "    - **retreats**: a phase that happens when some units (called **disloged units**) need to retreat. If they can't, they are destroyed\n",
    "    - **builds**: only happens after the *fall retreat*. Players gain control of SCS they are occupying.\n",
    "- Geographically, the game is divided into **provinces**\n",
    "- some provinces are called **supply centers** (SCS) and to win a **player** must control 18 supply centers.\n",
    "- Each **unit** belongs to a **player** and there can be **only 1 unit** in a province at a time, however **units** can join their force with **support order**.\n",
    "- There are 2 types of **units**:  {'F' or 'A'} for {Fleet, Army}\n",
    "- Each **player** is characterized by its country, encoded by a letter: {E,F,I,G,A,T,R} standing for {England, France, Italy, Germany, Austria, Turkey, Russia}\n",
    "\n",
    "We also give an clarification for the rows of 'all_orders' (i.e. the proper orders) because we will be using those quite a lot, and it can be hard to understand. \n",
    "- orders are defined by a **game_id**, a **unit_id** and **turn_number** (which makes sense, considering all the above points). \n",
    "- each order has a field **location** which is the province of origin of the unit\n",
    "- depending on the **unit_order**, here is the description of the fields\n",
    "\n",
    "| unit_order | location                 | target                            | target_dest     |\n",
    "| ---------- | ------------------------ | --------------------------------- | --------------- |\n",
    "| MOVE       | initial loc. of the unit | loc. to move to                   | null            |\n",
    "| HOLD       | initial loc. of the unit | null                              | null            |\n",
    "| CONVOY     |                          | initial loc.                      | end goal loc.   |\n",
    "| SUPPORT    |                          | loc. of unit to be supported      | its target loc. |\n",
    "| BUILD      | \"\"                       | encoded string like 'army Berlin' |                 |\n",
    "| RETREAT    | initial loc. of the unit | target loc                        |                 |\n",
    "| DESTROY    | initial loc. of the unit |                                   |                 |"
   ]
  },
  {
   "cell_type": "markdown",
   "metadata": {},
   "source": [
    "### What the map looks like ! \n",
    "\n",
    "<img src=\"img/map.png\" width=\"900\">"
   ]
  },
  {
   "cell_type": "markdown",
   "metadata": {},
   "source": [
    "# Discovering the Dataset\n",
    "\n",
    "Now that all of this is well-defined, let's see what we can achieve in the code. As it can be quite hard to see how to do this, let's break this down and look at one game."
   ]
  },
  {
   "cell_type": "code",
   "execution_count": 4,
   "metadata": {},
   "outputs": [
    {
     "data": {
      "text/html": [
       "<div>\n",
       "<style scoped>\n",
       "    .dataframe tbody tr th:only-of-type {\n",
       "        vertical-align: middle;\n",
       "    }\n",
       "\n",
       "    .dataframe tbody tr th {\n",
       "        vertical-align: top;\n",
       "    }\n",
       "\n",
       "    .dataframe thead th {\n",
       "        text-align: right;\n",
       "    }\n",
       "</style>\n",
       "<table border=\"1\" class=\"dataframe\">\n",
       "  <thead>\n",
       "    <tr style=\"text-align: right;\">\n",
       "      <th></th>\n",
       "      <th>id</th>\n",
       "      <th>num_turns</th>\n",
       "      <th>num_players</th>\n",
       "    </tr>\n",
       "  </thead>\n",
       "  <tbody>\n",
       "    <tr>\n",
       "      <th>0</th>\n",
       "      <td>37317</td>\n",
       "      <td>166</td>\n",
       "      <td>7</td>\n",
       "    </tr>\n",
       "  </tbody>\n",
       "</table>\n",
       "</div>"
      ],
      "text/plain": [
       "      id  num_turns  num_players\n",
       "0  37317        166            7"
      ]
     },
     "execution_count": 4,
     "metadata": {},
     "output_type": "execute_result"
    }
   ],
   "source": [
    "# extract one game\n",
    "# 37317\n",
    "# 120600\n",
    "game = all_games.query(\"id == 37317\")\n",
    "game_id = game.iloc[0,0]\n",
    "game"
   ]
  },
  {
   "cell_type": "code",
   "execution_count": 5,
   "metadata": {},
   "outputs": [
    {
     "data": {
      "text/html": [
       "<div>\n",
       "<style scoped>\n",
       "    .dataframe tbody tr th:only-of-type {\n",
       "        vertical-align: middle;\n",
       "    }\n",
       "\n",
       "    .dataframe tbody tr th {\n",
       "        vertical-align: top;\n",
       "    }\n",
       "\n",
       "    .dataframe thead th {\n",
       "        text-align: right;\n",
       "    }\n",
       "</style>\n",
       "<table border=\"1\" class=\"dataframe\">\n",
       "  <thead>\n",
       "    <tr style=\"text-align: right;\">\n",
       "      <th></th>\n",
       "      <th>game_id</th>\n",
       "      <th>unit_id</th>\n",
       "      <th>unit_order</th>\n",
       "      <th>location</th>\n",
       "      <th>target</th>\n",
       "      <th>target_dest</th>\n",
       "      <th>success</th>\n",
       "      <th>reason</th>\n",
       "      <th>turn_num</th>\n",
       "    </tr>\n",
       "  </thead>\n",
       "  <tbody>\n",
       "    <tr>\n",
       "      <th>11451415</th>\n",
       "      <td>37317</td>\n",
       "      <td>0</td>\n",
       "      <td>MOVE</td>\n",
       "      <td>Edinburgh</td>\n",
       "      <td>North Sea</td>\n",
       "      <td>None</td>\n",
       "      <td>1</td>\n",
       "      <td>None</td>\n",
       "      <td>1</td>\n",
       "    </tr>\n",
       "    <tr>\n",
       "      <th>11451416</th>\n",
       "      <td>37317</td>\n",
       "      <td>1</td>\n",
       "      <td>MOVE</td>\n",
       "      <td>Liverpool</td>\n",
       "      <td>Belgium</td>\n",
       "      <td>None</td>\n",
       "      <td>0</td>\n",
       "      <td>Illegal order replaced with Hold order</td>\n",
       "      <td>1</td>\n",
       "    </tr>\n",
       "    <tr>\n",
       "      <th>11451417</th>\n",
       "      <td>37317</td>\n",
       "      <td>2</td>\n",
       "      <td>HOLD</td>\n",
       "      <td>London</td>\n",
       "      <td>None</td>\n",
       "      <td>None</td>\n",
       "      <td>1</td>\n",
       "      <td>None</td>\n",
       "      <td>1</td>\n",
       "    </tr>\n",
       "    <tr>\n",
       "      <th>11451418</th>\n",
       "      <td>37317</td>\n",
       "      <td>3</td>\n",
       "      <td>MOVE</td>\n",
       "      <td>Marseilles</td>\n",
       "      <td>Spain</td>\n",
       "      <td>None</td>\n",
       "      <td>1</td>\n",
       "      <td>None</td>\n",
       "      <td>1</td>\n",
       "    </tr>\n",
       "    <tr>\n",
       "      <th>11451419</th>\n",
       "      <td>37317</td>\n",
       "      <td>4</td>\n",
       "      <td>MOVE</td>\n",
       "      <td>Paris</td>\n",
       "      <td>Burgundy</td>\n",
       "      <td>None</td>\n",
       "      <td>0</td>\n",
       "      <td>Bounced</td>\n",
       "      <td>1</td>\n",
       "    </tr>\n",
       "  </tbody>\n",
       "</table>\n",
       "</div>"
      ],
      "text/plain": [
       "          game_id  unit_id unit_order    location     target target_dest  \\\n",
       "11451415    37317        0       MOVE   Edinburgh  North Sea        None   \n",
       "11451416    37317        1       MOVE   Liverpool    Belgium        None   \n",
       "11451417    37317        2       HOLD      London       None        None   \n",
       "11451418    37317        3       MOVE  Marseilles      Spain        None   \n",
       "11451419    37317        4       MOVE       Paris   Burgundy        None   \n",
       "\n",
       "          success                                  reason  turn_num  \n",
       "11451415        1                                    None         1  \n",
       "11451416        0  Illegal order replaced with Hold order         1  \n",
       "11451417        1                                    None         1  \n",
       "11451418        1                                    None         1  \n",
       "11451419        0                                 Bounced         1  "
      ]
     },
     "execution_count": 5,
     "metadata": {},
     "output_type": "execute_result"
    }
   ],
   "source": [
    "# for this game, extract turns, orders and units\n",
    "turns = all_turns.query(\"game_id == {}\".format(game_id))\n",
    "orders = all_orders.query(\"game_id == {}\".format(game_id))\n",
    "units = all_units.query(\"game_id == {}\".format(game_id))\n",
    "orders.head()"
   ]
  },
  {
   "cell_type": "markdown",
   "metadata": {},
   "source": [
    "## Can we find **acts of friendships** ?\n",
    "\n",
    "It's firstly defined by a support. However it is not enough: a player could support himself (and that's not a friendship). So we must also look at the **last previous orders** asking to **MOVE** the unit towards the support's **target** destination. This will link to a 'unit_id' (the one that followed this order) and therefore giving access to the country who made the call."
   ]
  },
  {
   "cell_type": "code",
   "execution_count": 6,
   "metadata": {},
   "outputs": [
    {
     "data": {
      "text/html": [
       "<div>\n",
       "<style scoped>\n",
       "    .dataframe tbody tr th:only-of-type {\n",
       "        vertical-align: middle;\n",
       "    }\n",
       "\n",
       "    .dataframe tbody tr th {\n",
       "        vertical-align: top;\n",
       "    }\n",
       "\n",
       "    .dataframe thead th {\n",
       "        text-align: right;\n",
       "    }\n",
       "</style>\n",
       "<table border=\"1\" class=\"dataframe\">\n",
       "  <thead>\n",
       "    <tr style=\"text-align: right;\">\n",
       "      <th></th>\n",
       "      <th>game_id</th>\n",
       "      <th>unit_id</th>\n",
       "      <th>unit_order</th>\n",
       "      <th>location</th>\n",
       "      <th>target</th>\n",
       "      <th>target_dest</th>\n",
       "      <th>success</th>\n",
       "      <th>reason</th>\n",
       "      <th>turn_num</th>\n",
       "    </tr>\n",
       "  </thead>\n",
       "  <tbody>\n",
       "    <tr>\n",
       "      <th>11452916</th>\n",
       "      <td>37317</td>\n",
       "      <td>39</td>\n",
       "      <td>SUPPORT</td>\n",
       "      <td>Budapest</td>\n",
       "      <td>Rumania</td>\n",
       "      <td>Rumania</td>\n",
       "      <td>1</td>\n",
       "      <td>None</td>\n",
       "      <td>33</td>\n",
       "    </tr>\n",
       "    <tr>\n",
       "      <th>11452476</th>\n",
       "      <td>37317</td>\n",
       "      <td>14</td>\n",
       "      <td>SUPPORT</td>\n",
       "      <td>Bulgaria</td>\n",
       "      <td>Rumania</td>\n",
       "      <td>Rumania</td>\n",
       "      <td>1</td>\n",
       "      <td>None</td>\n",
       "      <td>23</td>\n",
       "    </tr>\n",
       "    <tr>\n",
       "      <th>11452868</th>\n",
       "      <td>37317</td>\n",
       "      <td>3</td>\n",
       "      <td>SUPPORT</td>\n",
       "      <td>Gascony</td>\n",
       "      <td>Marseilles</td>\n",
       "      <td>Marseilles</td>\n",
       "      <td>0</td>\n",
       "      <td>Supported unit has failed</td>\n",
       "      <td>33</td>\n",
       "    </tr>\n",
       "  </tbody>\n",
       "</table>\n",
       "</div>"
      ],
      "text/plain": [
       "          game_id  unit_id unit_order  location      target target_dest  \\\n",
       "11452916    37317       39    SUPPORT  Budapest     Rumania     Rumania   \n",
       "11452476    37317       14    SUPPORT  Bulgaria     Rumania     Rumania   \n",
       "11452868    37317        3    SUPPORT   Gascony  Marseilles  Marseilles   \n",
       "\n",
       "          success                     reason  turn_num  \n",
       "11452916        1                       None        33  \n",
       "11452476        1                       None        23  \n",
       "11452868        0  Supported unit has failed        33  "
      ]
     },
     "execution_count": 6,
     "metadata": {},
     "output_type": "execute_result"
    }
   ],
   "source": [
    "# first we must look at the supports that happened in this game.\n",
    "supports = orders.unit_order == \"SUPPORT\"\n",
    "orders_w_supports = orders[supports]\n",
    "orders_w_supports.sample(3)"
   ]
  },
  {
   "cell_type": "code",
   "execution_count": 7,
   "metadata": {},
   "outputs": [
    {
     "data": {
      "text/plain": [
       "game_id                             37317\n",
       "unit_id                                12\n",
       "unit_order                        SUPPORT\n",
       "location                          Galicia\n",
       "target                             Vienna\n",
       "target_dest                       Bohemia\n",
       "success                                 0\n",
       "reason         Support cut by a war - gal\n",
       "turn_num                               33\n",
       "Name: 11452914, dtype: object"
      ]
     },
     "execution_count": 7,
     "metadata": {},
     "output_type": "execute_result"
    }
   ],
   "source": [
    "# we want to find the countries of the supported units\n",
    "# let's take one and see what we can do\n",
    "support_order = orders_w_supports.iloc[-4]\n",
    "# support_order = orders_w_supports.head(3).tail(1)\n",
    "support_order"
   ]
  },
  {
   "cell_type": "code",
   "execution_count": 8,
   "metadata": {},
   "outputs": [
    {
     "data": {
      "text/html": [
       "<div>\n",
       "<style scoped>\n",
       "    .dataframe tbody tr th:only-of-type {\n",
       "        vertical-align: middle;\n",
       "    }\n",
       "\n",
       "    .dataframe tbody tr th {\n",
       "        vertical-align: top;\n",
       "    }\n",
       "\n",
       "    .dataframe thead th {\n",
       "        text-align: right;\n",
       "    }\n",
       "</style>\n",
       "<table border=\"1\" class=\"dataframe\">\n",
       "  <thead>\n",
       "    <tr style=\"text-align: right;\">\n",
       "      <th></th>\n",
       "      <th>game_id</th>\n",
       "      <th>unit_id</th>\n",
       "      <th>unit_order</th>\n",
       "      <th>location</th>\n",
       "      <th>target</th>\n",
       "      <th>target_dest</th>\n",
       "      <th>success</th>\n",
       "      <th>reason</th>\n",
       "      <th>turn_num</th>\n",
       "    </tr>\n",
       "  </thead>\n",
       "  <tbody>\n",
       "    <tr>\n",
       "      <th>11451517</th>\n",
       "      <td>37317</td>\n",
       "      <td>20</td>\n",
       "      <td>MOVE</td>\n",
       "      <td>Galicia</td>\n",
       "      <td>Vienna</td>\n",
       "      <td>None</td>\n",
       "      <td>0</td>\n",
       "      <td>Bounced</td>\n",
       "      <td>3</td>\n",
       "    </tr>\n",
       "  </tbody>\n",
       "</table>\n",
       "</div>"
      ],
      "text/plain": [
       "          game_id  unit_id unit_order location  target target_dest  success  \\\n",
       "11451517    37317       20       MOVE  Galicia  Vienna        None        0   \n",
       "\n",
       "           reason  turn_num  \n",
       "11451517  Bounced         3  "
      ]
     },
     "execution_count": 8,
     "metadata": {},
     "output_type": "execute_result"
    }
   ],
   "source": [
    "# Example: there is a support from 'Vienna' to 'Bohemia' \n",
    "# we know that in one of the previous orders, someone made a move with destination 'Vienna'\n",
    "target = support_order.target#.values[0]\n",
    "turn_number = support_order.turn_num#.values[0]\n",
    "move_order = orders.query(\"unit_order == 'MOVE' & target == '{}' & turn_num < {}\".format(target, turn_number)).tail(1)\n",
    "move_order"
   ]
  },
  {
   "cell_type": "code",
   "execution_count": 9,
   "metadata": {},
   "outputs": [
    {
     "data": {
      "text/html": [
       "<div>\n",
       "<style scoped>\n",
       "    .dataframe tbody tr th:only-of-type {\n",
       "        vertical-align: middle;\n",
       "    }\n",
       "\n",
       "    .dataframe tbody tr th {\n",
       "        vertical-align: top;\n",
       "    }\n",
       "\n",
       "    .dataframe thead th {\n",
       "        text-align: right;\n",
       "    }\n",
       "</style>\n",
       "<table border=\"1\" class=\"dataframe\">\n",
       "  <thead>\n",
       "    <tr style=\"text-align: right;\">\n",
       "      <th></th>\n",
       "      <th>game_id</th>\n",
       "      <th>country</th>\n",
       "      <th>type</th>\n",
       "      <th>start_turn</th>\n",
       "      <th>end_turn</th>\n",
       "      <th>unit_id</th>\n",
       "    </tr>\n",
       "  </thead>\n",
       "  <tbody>\n",
       "    <tr>\n",
       "      <th>1035275</th>\n",
       "      <td>37317</td>\n",
       "      <td>R</td>\n",
       "      <td>A</td>\n",
       "      <td>0</td>\n",
       "      <td>45</td>\n",
       "      <td>20</td>\n",
       "    </tr>\n",
       "  </tbody>\n",
       "</table>\n",
       "</div>"
      ],
      "text/plain": [
       "         game_id country type  start_turn  end_turn  unit_id\n",
       "1035275    37317       R    A           0        45       20"
      ]
     },
     "execution_count": 9,
     "metadata": {},
     "output_type": "execute_result"
    }
   ],
   "source": [
    "unit_id = move_order.unit_id.values[0]\n",
    "move_unit = units.query(\"unit_id == {}\".format(unit_id))\n",
    "move_unit"
   ]
  },
  {
   "cell_type": "markdown",
   "metadata": {},
   "source": [
    "We see that rusian was the country who had moved it's army there the last time before a support happened. Hence, 'Russia is the supported Country'."
   ]
  },
  {
   "cell_type": "code",
   "execution_count": 10,
   "metadata": {},
   "outputs": [
    {
     "data": {
      "text/html": [
       "<div>\n",
       "<style scoped>\n",
       "    .dataframe tbody tr th:only-of-type {\n",
       "        vertical-align: middle;\n",
       "    }\n",
       "\n",
       "    .dataframe tbody tr th {\n",
       "        vertical-align: top;\n",
       "    }\n",
       "\n",
       "    .dataframe thead th {\n",
       "        text-align: right;\n",
       "    }\n",
       "</style>\n",
       "<table border=\"1\" class=\"dataframe\">\n",
       "  <thead>\n",
       "    <tr style=\"text-align: right;\">\n",
       "      <th></th>\n",
       "      <th>game_id</th>\n",
       "      <th>country</th>\n",
       "      <th>type</th>\n",
       "      <th>start_turn</th>\n",
       "      <th>end_turn</th>\n",
       "      <th>unit_id</th>\n",
       "    </tr>\n",
       "  </thead>\n",
       "  <tbody>\n",
       "    <tr>\n",
       "      <th>1035256</th>\n",
       "      <td>37317</td>\n",
       "      <td>A</td>\n",
       "      <td>A</td>\n",
       "      <td>0</td>\n",
       "      <td>110</td>\n",
       "      <td>12</td>\n",
       "    </tr>\n",
       "  </tbody>\n",
       "</table>\n",
       "</div>"
      ],
      "text/plain": [
       "         game_id country type  start_turn  end_turn  unit_id\n",
       "1035256    37317       A    A           0       110       12"
      ]
     },
     "execution_count": 10,
     "metadata": {},
     "output_type": "execute_result"
    }
   ],
   "source": [
    "# Let's look at the country who did the support\n",
    "unit_id = support_order.unit_id# .values[0]\n",
    "support_unit = units.query(\"unit_id == {}\".format(unit_id))\n",
    "support_unit"
   ]
  },
  {
   "cell_type": "markdown",
   "metadata": {},
   "source": [
    "As it turns out this **is** an act of friendship: Russia was supported by Austria, when it moved from Vienna to Bohemia, by Austrian soldiers who were in Galicia. As we can see on the map, this is perfectly coherent with the geographical position of provinces."
   ]
  },
  {
   "cell_type": "markdown",
   "metadata": {},
   "source": [
    "## A little data pre-processing won't hurt us\n",
    "\n",
    "Now is when we realize it would be nice to have an extra information about orders. This can be seen as a pre-processing step, since it will be computed only once. \n",
    "\n",
    "First thing that we want to have is to know **what country passed which order**.\n",
    "\n",
    "As we will see later on, we will also need **the year and the season at which each order was passed**, in order to find friendships with more precisions than if we use only 'year' as indicator of when an order happens. Here is how we can encode this: \n",
    "- the spring of a year is writen as the year, for instance 'Spring 1904' = 1904\n",
    "- the fall of the same year is written as the year + 0.5, for instance 'Fall 1904' = 1904.5\n",
    "\n",
    "Also, there is sometimes a problem with the data. Order with id == 89268 for instance has the 'units' that are duplicated. Possible way to solve this is to run `units.drop_duplicates()`. It's not the only possible problem with the 'unit' array, indeed sometimes there are duplicates that are 'almost exactly the same, but not exactly. The end turn would be sligtly different. The solution to this problem is simply to expect an error and if one is catched, to skip this game."
   ]
  },
  {
   "cell_type": "code",
   "execution_count": 11,
   "metadata": {},
   "outputs": [],
   "source": [
    "try: \n",
    "    # 1. compute the country who emitted each order \n",
    "    countries = orders.unit_id.apply(lambda x: units.query(\"unit_id == {}\".format(x)).country.item())\n",
    "    # compute the 'encoded year' at which each order was passed\n",
    "    turns[\"season_encoded\"] = turns[\"year\"] + 0.5 * (turns[\"season\"] == \"Fall\")\n",
    "    years = orders.turn_num.apply(lambda x: turns.query(\"turn_num == {}\".format(x)).season_encoded.item())\n",
    "    # update the orders\n",
    "    orders[\"country\"] = countries\n",
    "    orders[\"year\"] = years\n",
    "except ValueError:\n",
    "    print(\"Data is corrupted and execution was aborted\")"
   ]
  },
  {
   "cell_type": "markdown",
   "metadata": {},
   "source": [
    "Finally, a last step we will need is more **information about the 'target country'**. When an order is passed, there is often another country located where the order's target is. This information is really important to us. Let's find it here."
   ]
  },
  {
   "cell_type": "code",
   "execution_count": 12,
   "metadata": {},
   "outputs": [],
   "source": [
    "def get_target_country(order, orders):\n",
    "    \"\"\"\n",
    "    Given an order MOVE or SUPPORT, it returns the country that controls the targeted province.\n",
    "    The function looks at 'the last successful move towards the targetted province'.\n",
    "    If none is found, returns None.\n",
    "    If order is not MOVE or SUPPORT, it returns empty string.\n",
    "    \"\"\"\n",
    "    if order.unit_order not in [\"MOVE\", \"SUPPORT\"]: return \"\"\n",
    "    # get the last move orders to this province\n",
    "    q = \"(unit_order in ('MOVE' ,'RETREAT', 'HOLD')) & success == 1 & target == '{}' & turn_num < {}\".format(order.target, order.turn_num)\n",
    "    last_move_orders = orders.query(q)\n",
    "    if len(last_move_orders):\n",
    "        # extract the order\n",
    "        last_move_order = last_move_orders.iloc[-1]\n",
    "        return last_move_order.country\n",
    "    else:\n",
    "        # this is when there never was a successful move toward this \n",
    "        return \"None\""
   ]
  },
  {
   "cell_type": "code",
   "execution_count": 13,
   "metadata": {},
   "outputs": [
    {
     "data": {
      "text/html": [
       "<div>\n",
       "<style scoped>\n",
       "    .dataframe tbody tr th:only-of-type {\n",
       "        vertical-align: middle;\n",
       "    }\n",
       "\n",
       "    .dataframe tbody tr th {\n",
       "        vertical-align: top;\n",
       "    }\n",
       "\n",
       "    .dataframe thead th {\n",
       "        text-align: right;\n",
       "    }\n",
       "</style>\n",
       "<table border=\"1\" class=\"dataframe\">\n",
       "  <thead>\n",
       "    <tr style=\"text-align: right;\">\n",
       "      <th></th>\n",
       "      <th>game_id</th>\n",
       "      <th>unit_id</th>\n",
       "      <th>unit_order</th>\n",
       "      <th>location</th>\n",
       "      <th>target</th>\n",
       "      <th>target_dest</th>\n",
       "      <th>success</th>\n",
       "      <th>reason</th>\n",
       "      <th>turn_num</th>\n",
       "      <th>country</th>\n",
       "      <th>year</th>\n",
       "      <th>target_country</th>\n",
       "    </tr>\n",
       "  </thead>\n",
       "  <tbody>\n",
       "    <tr>\n",
       "      <th>11452231</th>\n",
       "      <td>37317</td>\n",
       "      <td>16</td>\n",
       "      <td>MOVE</td>\n",
       "      <td>Constantinople</td>\n",
       "      <td>Ankara</td>\n",
       "      <td>None</td>\n",
       "      <td>0</td>\n",
       "      <td>Destroyed by f bul.sc - con</td>\n",
       "      <td>18</td>\n",
       "      <td>T</td>\n",
       "      <td>1904.5</td>\n",
       "      <td>None</td>\n",
       "    </tr>\n",
       "    <tr>\n",
       "      <th>11452500</th>\n",
       "      <td>37317</td>\n",
       "      <td>29</td>\n",
       "      <td>SUPPORT</td>\n",
       "      <td>Warsaw</td>\n",
       "      <td>Silesia</td>\n",
       "      <td>Silesia</td>\n",
       "      <td>1</td>\n",
       "      <td>None</td>\n",
       "      <td>23</td>\n",
       "      <td>R</td>\n",
       "      <td>1905.5</td>\n",
       "      <td>R</td>\n",
       "    </tr>\n",
       "    <tr>\n",
       "      <th>11452040</th>\n",
       "      <td>37317</td>\n",
       "      <td>20</td>\n",
       "      <td>RETREAT</td>\n",
       "      <td>Bohemia</td>\n",
       "      <td>Silesia</td>\n",
       "      <td>None</td>\n",
       "      <td>1</td>\n",
       "      <td>None</td>\n",
       "      <td>14</td>\n",
       "      <td>R</td>\n",
       "      <td>1903.5</td>\n",
       "      <td></td>\n",
       "    </tr>\n",
       "    <tr>\n",
       "      <th>11451972</th>\n",
       "      <td>37317</td>\n",
       "      <td>7</td>\n",
       "      <td>HOLD</td>\n",
       "      <td>Tunis</td>\n",
       "      <td>None</td>\n",
       "      <td>None</td>\n",
       "      <td>1</td>\n",
       "      <td>None</td>\n",
       "      <td>13</td>\n",
       "      <td>I</td>\n",
       "      <td>1903.5</td>\n",
       "      <td></td>\n",
       "    </tr>\n",
       "    <tr>\n",
       "      <th>11452716</th>\n",
       "      <td>37317</td>\n",
       "      <td>34</td>\n",
       "      <td>SUPPORT</td>\n",
       "      <td>Silesia</td>\n",
       "      <td>Warsaw</td>\n",
       "      <td>Galicia</td>\n",
       "      <td>0</td>\n",
       "      <td>Support cut by a boh - sil</td>\n",
       "      <td>28</td>\n",
       "      <td>R</td>\n",
       "      <td>1906.5</td>\n",
       "      <td>R</td>\n",
       "    </tr>\n",
       "  </tbody>\n",
       "</table>\n",
       "</div>"
      ],
      "text/plain": [
       "          game_id  unit_id unit_order        location   target target_dest  \\\n",
       "11452231    37317       16       MOVE  Constantinople   Ankara        None   \n",
       "11452500    37317       29    SUPPORT          Warsaw  Silesia     Silesia   \n",
       "11452040    37317       20    RETREAT         Bohemia  Silesia        None   \n",
       "11451972    37317        7       HOLD           Tunis     None        None   \n",
       "11452716    37317       34    SUPPORT         Silesia   Warsaw     Galicia   \n",
       "\n",
       "          success                       reason  turn_num country    year  \\\n",
       "11452231        0  Destroyed by f bul.sc - con        18       T  1904.5   \n",
       "11452500        1                         None        23       R  1905.5   \n",
       "11452040        1                         None        14       R  1903.5   \n",
       "11451972        1                         None        13       I  1903.5   \n",
       "11452716        0   Support cut by a boh - sil        28       R  1906.5   \n",
       "\n",
       "         target_country  \n",
       "11452231           None  \n",
       "11452500              R  \n",
       "11452040                 \n",
       "11451972                 \n",
       "11452716              R  "
      ]
     },
     "execution_count": 13,
     "metadata": {},
     "output_type": "execute_result"
    }
   ],
   "source": [
    "# get target country\n",
    "targets = orders.apply(lambda o: get_target_country(o, orders), axis = 1)\n",
    "orders[\"target_country\"] = targets\n",
    "orders.sample(5)"
   ]
  },
  {
   "cell_type": "markdown",
   "metadata": {},
   "source": [
    "## Acts of **friendships** and Acts of **hostility**\n",
    "\n",
    "Now that we have a good dataframe, let's start the processing.\n",
    "\n",
    "### Finding **acts of friendship**\n",
    "\n",
    "This function is just a rewriting of all the code which was presented above.\n",
    "\n",
    "Note that we don't add the query criteria 'success == 1' because it's not the result which defines the intention of the act. You can plan to attack someone and fail, you will still have performed a hostile action toward the other player."
   ]
  },
  {
   "cell_type": "code",
   "execution_count": 14,
   "metadata": {},
   "outputs": [],
   "source": [
    "def is_order_act_of_friendship(support_order):\n",
    "    # only interested in SUPPORT orders to other countries\n",
    "    if support_order.unit_order != \"SUPPORT\": return False\n",
    "    if support_order.target_country == \"None\": return False\n",
    "    return support_order.country != support_order.target_country"
   ]
  },
  {
   "cell_type": "code",
   "execution_count": 15,
   "metadata": {},
   "outputs": [
    {
     "data": {
      "text/plain": [
       "False    461\n",
       "True      21\n",
       "dtype: int64"
      ]
     },
     "execution_count": 15,
     "metadata": {},
     "output_type": "execute_result"
    }
   ],
   "source": [
    "# so we may add this to the orders dataframe\n",
    "acts_of_friendships = orders.apply(is_order_act_of_friendship, axis = 1)\n",
    "acts_of_friendships.value_counts()"
   ]
  },
  {
   "cell_type": "markdown",
   "metadata": {},
   "source": [
    "Good news : it's working. As we see, there is another column 'acts_friendships' which tell if this order was an act of friendships-\n",
    "\n",
    "### Finding **acts of hostility**\n",
    "\n",
    "The code is quite the same, just the logic is a little tweaked. \n",
    "\n",
    "We are looking at all **orders** with **unit_order** that is **MOVE** (*this is how an attack starts*), where the **target** is a province with a unit of another player. Again, the tricky part is to see if there is another player's unit located at this province. We must look at all **previous orders** with the same **target** done by a unit from **another country**."
   ]
  },
  {
   "cell_type": "code",
   "execution_count": 16,
   "metadata": {},
   "outputs": [],
   "source": [
    "def is_move_act_of_hostility(move_order):\n",
    "    if move_order.unit_order != \"MOVE\": return False\n",
    "    if move_order.target_country == \"None\": return False\n",
    "    return move_order.country != move_order.target_country"
   ]
  },
  {
   "cell_type": "code",
   "execution_count": 17,
   "metadata": {},
   "outputs": [
    {
     "data": {
      "text/plain": [
       "False    410\n",
       "True      72\n",
       "dtype: int64"
      ]
     },
     "execution_count": 17,
     "metadata": {},
     "output_type": "execute_result"
    }
   ],
   "source": [
    "acts_of_hostility = orders.apply(is_move_act_of_hostility, axis = 1)\n",
    "acts_of_hostility.value_counts()"
   ]
  },
  {
   "cell_type": "markdown",
   "metadata": {},
   "source": [
    "## Who is friend with who\n",
    "\n",
    "Now that we have classified our orders, let's find friends within our game. Coming back to our definition:\n",
    "\n",
    "> Friendship is a relationship between two players spanning over 3 seasons containing at least 2 consecutives and reciprocated acts of friendships.\n",
    "\n",
    "The difficulty comes from the identification of the country who received the support. Let's add another function to solve this problem which we will be able to call for both the acts of friendships and the acts of hostility. In both case, it's the **target province** that matters."
   ]
  },
  {
   "cell_type": "code",
   "execution_count": 18,
   "metadata": {},
   "outputs": [],
   "source": [
    "friendly_orders = orders[acts_of_friendships]\n",
    "hostile_orders = orders[acts_of_hostility]"
   ]
  },
  {
   "cell_type": "markdown",
   "metadata": {},
   "source": [
    "For each order in the above set , assuming the 'supporting country' is X and the 'supported country' is Y, we must look if there exist in the last 2 years: \n",
    "- at least 1 previous order with 'X supports Y'\n",
    "- at least 2 previous orders with 'Y supports X'\n",
    "\n",
    "Those acts of frienships are part of a **friendships**.\n",
    "\n",
    "Let's create a table which will recap all friendships and potential betrayal, and then let's fill it up with the data already extracted. "
   ]
  },
  {
   "cell_type": "code",
   "execution_count": 19,
   "metadata": {},
   "outputs": [],
   "source": [
    "def get_countries_code(x,y):\n",
    "    \"\"\"Given two countries, it returns another string being their letters sorted alphabetically.\n",
    "    This string is the 'encoded friendship name'.\"\"\"\n",
    "    return ''.join(sorted(x + y))"
   ]
  },
  {
   "cell_type": "code",
   "execution_count": 20,
   "metadata": {},
   "outputs": [],
   "source": [
    "def analyse_friendships(df):\n",
    "    \"\"\"Given the friendship dataframe, it will extract insights out of it\"\"\"\n",
    "    # get columns where something happened\n",
    "    cols = [col for col in df.columns if np.count_nonzero(friendships[col] != 0)]\n",
    "    if len(cols):\n",
    "        print(\"- friendships:\", cols)\n",
    "        for c in cols: \n",
    "            tmp = df.loc[:,c]\n",
    "            pos = tmp[tmp != 0].values\n",
    "            # print(pos)\n",
    "            if type(pos[-1]) is str: \n",
    "                print(\"    * length of friendship \",c,\" is \", len(pos) - 1)\n",
    "                print(\"        ->\",c,\" ends betrayed by \",pos[-1],\"\") \n",
    "            else: \n",
    "                print(\"    * length of friendship: \", len(pos))\n",
    "\n",
    "    else:\n",
    "        print(\"- No friendships was found\")"
   ]
  },
  {
   "cell_type": "markdown",
   "metadata": {},
   "source": [
    "Our first attempt to find friendships and betrayals led us to write those 2 functions. They work 95% of the times, but not always. The often identify friendships that are too short, for instance."
   ]
  },
  {
   "cell_type": "code",
   "execution_count": 21,
   "metadata": {},
   "outputs": [],
   "source": [
    "countries = ['A', 'E', 'F', 'G', 'I', 'R', 'T']\n",
    "pairs = [x+y for x in countries for y in countries if y > x]\n",
    "years = np.arange(1901, max(friendly_orders.year.max(), hostile_orders.year.max()) + 0.5, 0.5)\n",
    "# create a dataframe each possible friendships and each years\n",
    "friendships = pd.DataFrame(columns=pairs, index = years, dtype = np.int8).fillna(0)"
   ]
  },
  {
   "cell_type": "code",
   "execution_count": 22,
   "metadata": {},
   "outputs": [],
   "source": [
    "def find_friendships(friendships, friendly_orders, hostile_orders, length_year = 1.5):\n",
    "    \"\"\"Will fill the 'friendships' dataframe by adding '1's to signify that a pair of players engaged in a \n",
    "    reciprocal friendships\n",
    "    \n",
    "    Careful, the function doesn't return anything - instead it changes the 'friendship' dataframe\n",
    "    \n",
    "    Parameters\n",
    "    friendships (pd.DataFrame): df with rows as 'encoded seasons' and columns as 'encoded friendship names'.\n",
    "    friendly_orders (pd.DataFrame): frame of all order with an 'act of friendship'\n",
    "    length_year (int): minimum amount of time that must pass between the first AOF and the last one.\n",
    "    \n",
    "    Discussion\n",
    "    For each order with an AOF, it will query all other ones that \n",
    "    - happened before\n",
    "    - involved exactly the same 2 countries\n",
    "    Then it makes sure that amongs all those orders\n",
    "    - each player originated at least 2 of them\n",
    "    - that the time spent between the first one and the last one was longer than `length_year` \n",
    "    Those orders are the ones defining a friendships.\n",
    "    \"\"\"\n",
    "    # for each friendly order, finds those that define a friendship\n",
    "    for i, o in friendly_orders.iterrows():\n",
    "        x, y, year = o.country, o.target_country,  o.year\n",
    "        # this line doesn't remove frienships because we are only looking are reciprocal ones\n",
    "        if y > x: continue\n",
    "        # make a query over others friendly orders from the past (including this one !)\n",
    "        q = \"year <= @year & ( (country == @x & target_country == @y) | (country == @y & target_country == @x) )\"\n",
    "        query = friendly_orders.query(q)\n",
    "        # extract number of helps from 2 countries\n",
    "        n_x = np.count_nonzero(query.country == x)\n",
    "        n_y = len(query) - n_x\n",
    "        y_min = query.year.min()\n",
    "        y_max = query.year.max()\n",
    "        # print(\"output of query: \",get_countries_code(x,y), y_min, y_max)\n",
    "        if n_x >= 2 and n_y >= 2 and (y_max - y_min) >= length_year:\n",
    "            # they meet all criteria about 'being nice to each other'\n",
    "            code = get_countries_code(x,y)\n",
    "            friendships.loc[query.year.min():o.year, code] = 1\n",
    "            # we just want to make sure they are not 'being not nice' as well ! \n",
    "            # each time we find an AOH, we must break the friendship at this year\n",
    "            q = \"year < @y_max & year > @y_min & country in (@x, @y) & target_country in (@x, @y)\"\n",
    "            query = hostile_orders.query(q)\n",
    "            for i, hostile_order in query.iterrows(): \n",
    "                # print(\"   hostile act detected \", code, hostile_order.year, hostile_order.unit_id)\n",
    "                friendships.loc[hostile_order.year, code] = 0            \n",
    "    "
   ]
  },
  {
   "cell_type": "code",
   "execution_count": 23,
   "metadata": {},
   "outputs": [],
   "source": [
    "def find_betrayals(friendships, hostile_orders, N_hostile_min = 2):\n",
    "    \"\"\"Will fill the 'friendships' dataframe by removing '1' when a friendship was broken and if a \n",
    "    betrayal is detect, it will add its country letter to the frame. \n",
    "    \n",
    "    Careful, the function doesn't return anything - instead it changes the 'friendship dataframe\n",
    "    \n",
    "    Parameters\n",
    "    friendships (pd.DataFrame): df with rows as 'encoded seasons' and columns as 'encoded friendship names'.\n",
    "    hostile_orders (pd.DataFrame): frame of all order with an 'act of hostility'\n",
    "    N_hostile_min (int): minimum number of hostile action to consider this event as a betrayal\n",
    "    \n",
    "    Discussion\n",
    "    For each order, if the players were engaged in a friendship, it will first destroy the friendship and \n",
    "    then verifiy that the event is considered as a betrayal according to our definition.\n",
    "    \"\"\"\n",
    "    for i, o in hostile_orders.iterrows():\n",
    "        x = o.country\n",
    "        y = o.target_country\n",
    "        code = get_countries_code(x,y)\n",
    "        if friendships.loc[o.year, code]:\n",
    "            # 1. it breaks the friendship\n",
    "            friendships.loc[o.year+0.5:, code] = 0 \n",
    "            # 2. did a betrayal happened ? \n",
    "            # we must just verify that another hostile action happened after this\n",
    "            q = \"year >= {}  & ((country == @x & target_country == @y) | (country == @y & target_country == @x) )\".format(o.year, x, y)\n",
    "            query = hostile_orders.query(q)\n",
    "            if len(query) >= N_hostile_min: \n",
    "                # print(\"   - betrayal happened for \", code)\n",
    "                friendships.loc[o.year, code] = x "
   ]
  },
  {
   "cell_type": "code",
   "execution_count": 24,
   "metadata": {},
   "outputs": [
    {
     "name": "stdout",
     "output_type": "stream",
     "text": [
      "         AI\n",
      "1901.0  0.0\n",
      "1901.5  0.0\n",
      "1902.0  0.0\n",
      "1902.5  0.0\n",
      "1903.0  0.0\n",
      "1903.5  0.0\n",
      "1904.0  0.0\n",
      "1904.5  1.0\n",
      "1905.0  0.0\n",
      "1905.5  1.0\n",
      "1906.0  1.0\n",
      "1906.5  1.0\n",
      "1907.0  1.0\n",
      "1907.5  1.0\n",
      "- friendships: ['AI']\n",
      "    * length of friendship:  6\n"
     ]
    }
   ],
   "source": [
    "# let's test those functions\n",
    "years = np.arange(1901, max(friendly_orders.year.max(), hostile_orders.year.max()) + 0.5, 0.5)\n",
    "friendships = pd.DataFrame(columns=pairs, index = years, dtype = np.int8).fillna(0)\n",
    "find_friendships(friendships, friendly_orders, hostile_orders)\n",
    "find_betrayals(friendships, hostile_orders)\n",
    "print(friendships[[c for c in friendships.columns if np.count_nonzero(friendships[c])]])\n",
    "analyse_friendships(friendships)"
   ]
  },
  {
   "cell_type": "markdown",
   "metadata": {},
   "source": [
    "As we can see here, there is something wrong with this code. In this friendship (for game 37317) there is a problem in the year 1904 for the friendship 'AI'. It is hard to fix this problem with the current approach and we had to leave it behind. However, even if those function are not definitive, they helped us a lot to identify a better code and that is why we have let them here. Let's now go through to code that works ! \n",
    "\n",
    "### Finding Friendships Algorithm\n",
    "\n",
    "The final algorithm to find friendships and betrayals is a rather complex, so here is a high-level explanation of what it does.\n",
    "\n",
    "*Abreviations used recurrently in the code*\n",
    "- AoF = \"Act of friendship\"\n",
    "- AoH = \"Act of hostility\"\n",
    "\n",
    "The main idea of the algorithm is to consider series of AoFs that we calls '**bags of AoF**'. Those bags, with what separates them, is what to be analysed. Let's define 2 criteria, internal and external. \n",
    "\n",
    "a. **Internal criteria** that a bag of AOFs must verify (*internal* because it only depends on the AoFs only)\n",
    "- more than 2 acts emitted by the 2 countries\n",
    "- the overall time elapsed is longer than 1.5 years\n",
    "\n",
    "b. **External criteria** that a bag of AoFs must verify (*external* because the criteria depend on the AoHs that happened at the same time)\n",
    "- no AoH in the same time range\n",
    "\n",
    "\n",
    "It goes like this:\n",
    "\n",
    "**For each pair of countries** (*their friendship is represented by a column of the 'friendships' dataframe*): \n",
    "1. Find all AOFs that happened between them. Consider them as a bag of AoFs. \n",
    "2. Verify that this 'bag of acts of friendships' (BAOF) verifies the *internal criteria* mentioned above. If so, fill between the first season and the last season with '1's. Else, make sure '0' are placed at the season of interest. \n",
    "3. Find acts of hostility that happened between the same time range as the bag of words. Split the bag of words (*actually, it's the seasons array that is split*) for every act of hostility so that we obtain \n",
    "4. For each bag of AoF (hence, un-interupted by hostility, so external validity is verified !) verify again internal validity. If not verified, replace '1's with zeros.\n",
    "5. Find betrayal, as the event:  \"breaking a bags of AoFs with more than 1 hostile action\"\n",
    "\n",
    "\n",
    "Let's note that since the step 3 doesn't need to be repeated, it is not a recursive aglorithm. \n",
    "\n",
    "In order to implement this algorithm, we need a 'splitting' function which also is a little tricky. There are several ways to do this splitting properly (recursive spliting would be one way) but we will use a vectorized approach to do so. We want to split a list of 'ones' divided by zeros into a list of 'bags' of ones. Let's just show how one can do that here"
   ]
  },
  {
   "cell_type": "code",
   "execution_count": 25,
   "metadata": {},
   "outputs": [
    {
     "data": {
      "text/plain": [
       "[array([1.]),\n",
       " array([0., 0.]),\n",
       " array([1., 1., 1.]),\n",
       " array([0., 0., 0., 0., 0., 0.]),\n",
       " array([1.])]"
      ]
     },
     "execution_count": 25,
     "metadata": {},
     "output_type": "execute_result"
    }
   ],
   "source": [
    "# illustration of the splitting algorithm \n",
    "ones = np.array([1., 0., 0., 1., 1., 1., 0., 0., 0., 0., 0., 0., 1.])\n",
    "delta = ones[1:] - ones[:-1]\n",
    "idcs = np.where(delta != 0)[0]+1\n",
    "bags = np.split(ones, idcs)\n",
    "bags"
   ]
  },
  {
   "cell_type": "markdown",
   "metadata": {},
   "source": [
    "As we can see, it works well ! Let's just write a few functions for those tasks, and then we can implement the overall algorithm safely."
   ]
  },
  {
   "cell_type": "code",
   "execution_count": 26,
   "metadata": {},
   "outputs": [],
   "source": [
    "length_year = 1.5\n",
    "countries = ['A', 'E', 'F', 'G', 'I', 'R', 'T']\n",
    "pairs_tuple = [(x,y) for x in countries for y in countries if y > x]\n",
    "\n",
    "def are_AOFs_friendship(AOFs, x, y, length_year = 1.0, n_xy_min = 2, n_min = 4):\n",
    "    \"\"\"Internal validity criteria:\n",
    "    Given a dataframe of 'AoF's, and the 2 countries of interest, \n",
    "    it returns the validity of this series of friendly actions. \n",
    "    \"\"\"\n",
    "    if not len(AOFs): return False, None, None\n",
    "    # extract number of helps from both countries\n",
    "    n_x = np.count_nonzero(AOFs.country == x)\n",
    "    n_y = len(AOFs) - n_x\n",
    "    # extract information about the year\n",
    "    y_min = AOFs.year.min()\n",
    "    y_max = AOFs.year.max()\n",
    "    # print(get_countries_code(x,y), y_min, y_max)\n",
    "    return (n_x >= n_xy_min and n_y >= n_xy_min and (n_x + n_y) >= n_min and (y_max - y_min) >= length_year), y_min, y_max\n",
    "\n",
    "def get_bags_of_ones_idcs(ones):\n",
    "    \"\"\"Given an numpy array of ones, returns the indices where to split the array \n",
    "    so that all ones are together and all zeros together, in sub arrays, once split.\"\"\"\n",
    "    delta = ones[1:] - ones[:-1]\n",
    "    idcs = np.where(delta != 0)[0]+1\n",
    "    return idcs"
   ]
  },
  {
   "cell_type": "markdown",
   "metadata": {},
   "source": [
    "Here is the infamous function."
   ]
  },
  {
   "cell_type": "code",
   "execution_count": 27,
   "metadata": {},
   "outputs": [],
   "source": [
    "def find_friendships_and_betrayals(friendships, friendly_orders, hostile_orders, N_hostile_min = 2, ):\n",
    "    \"\"\"Fills the 'friendships' dataframe by adding '1's to signify that a pair of players engaged in a \n",
    "    reciprocal friendship.\n",
    "    \n",
    "    Careful, the function doesn't return anything - instead it changes the 'friendships' dataframe\n",
    "    \n",
    "    Parameters\n",
    "    friendships (pd.DataFrame): df with rows as 'encoded seasons' and columns as 'encoded friendship names'.\n",
    "    friendly_orders (pd.DataFrame): frame of all orders with an 'act of friendship'\n",
    "    length_year (int): minimum amount of time that must pass between the first AOF and the last one.\n",
    "    N_hostile_min (int): min number of AoH so that a broken friendship is considered as a betrayal. \n",
    "    \"\"\"\n",
    "    for pair in pairs:\n",
    "        # 1. make a query for all acts of support of this pair of countries    \n",
    "        x, y = pair\n",
    "        q = \"country in (@x, @y) & target_country in (@x, @y)\"\n",
    "        query1 = friendly_orders.query(q)\n",
    "        # 2. verify internal validity of AoFs\n",
    "        is_valid, y_min, y_max = are_AOFs_friendship(AOFs = query1, x = x, y = y)\n",
    "        if is_valid:\n",
    "            # Fill with '1' everywhere\n",
    "            code = get_countries_code(x,y)\n",
    "            friendships.loc[y_min:y_max, code] = 1\n",
    "            # Look for hostilities\n",
    "            q = \"year < @y_max & year > @y_min & country in (@x, @y) & target_country in (@x, @y)\"\n",
    "            query2 = hostile_orders.query(q)\n",
    "            # Each time we find an AOH, break the friendship at this season\n",
    "            for i, hostile_order in query2.iterrows(): \n",
    "                friendships.loc[hostile_order.year, code] = 0    \n",
    "            # Verify again that each small bag of AoFs is valid or not\n",
    "            # a. get the indices using the values \n",
    "            idcs = get_bags_of_ones_idcs(friendships.loc[y_min:y_max, code].values)\n",
    "            # b. and make the split using the indices of the dataframe\n",
    "            bags_of_years = np.split(friendships.loc[y_min:y_max, code].index.values, idcs)\n",
    "            # c. loop inside even (not odd) bags of years (the other ones are those with betrayals)\n",
    "            # we know the first one '0' will be containing a friendship, that's why we can do this\n",
    "            for years in bags_of_years[::2]: \n",
    "                AoFs = query1.query(\"year in @years\")\n",
    "                # print(AoFs[[\"year\",\"unit_order\", \"country\", \"target_country\"]], \"\\n\")\n",
    "                is_valid, _, _ = are_AOFs_friendship(AOFs= AoFs, x = x, y = y, n_xy_min = 1, n_min = 3)\n",
    "                if not is_valid:\n",
    "                    # this friendship is cancelled\n",
    "                    friendships.loc[years, code] = 0  \n",
    "            # Final step: find betrayals inside odd bags of years\n",
    "            for years in bags_of_years[1::2]:\n",
    "                # first, verify it's coming after a friendship\n",
    "                if friendships.loc[years[0]-0.5, code]:   \n",
    "                    # get the hostile orders in the desired time interval \n",
    "                    AoHs = query2.query(\"year in @years\")\n",
    "                    if len(AoHs) >= N_hostile_min:\n",
    "                        # betrayal happened here ! \n",
    "                        betrayal = AoHs.iloc[0]\n",
    "                        friendships.loc[betrayal.year, code] = betrayal.country"
   ]
  },
  {
   "cell_type": "code",
   "execution_count": 28,
   "metadata": {},
   "outputs": [
    {
     "name": "stdout",
     "output_type": "stream",
     "text": [
      "         AI\n",
      "1901.0  0.0\n",
      "1901.5  0.0\n",
      "1902.0  0.0\n",
      "1902.5  0.0\n",
      "1903.0  0.0\n",
      "1903.5  0.0\n",
      "1904.0  0.0\n",
      "1904.5  0.0\n",
      "1905.0  0.0\n",
      "1905.5  1.0\n",
      "1906.0  1.0\n",
      "1906.5  1.0\n",
      "1907.0  1.0\n",
      "1907.5  1.0\n",
      "- friendships: ['AI']\n",
      "    * length of friendship:  5\n"
     ]
    }
   ],
   "source": [
    "# let's test this function\n",
    "years = np.arange(1901, max(friendly_orders.year.max(), hostile_orders.year.max()) + 0.5, 0.5)\n",
    "friendships = pd.DataFrame(columns=pairs, index = years, dtype = np.int8).fillna(0)\n",
    "find_friendships_and_betrayals(friendships, friendly_orders, hostile_orders, N_hostile_min=1)\n",
    "print(friendships[[c for c in friendships.columns if np.count_nonzero(friendships[c])]])\n",
    "analyse_friendships(friendships)"
   ]
  },
  {
   "cell_type": "markdown",
   "metadata": {},
   "source": [
    "Good news is: the detection of friendship is now working and all goes inside one function. \n",
    "\n",
    "**Note for debugging**: *it is possible to nicely vizualize in a terminal the 'frienships' dataframe and the orders with the following commands**\n",
    "- to see acts of friendships: `friendly_orders[[\"year\", \"country\", \"target_country\"]]`\n",
    "- same by filtering for 2 countries: `friendly_orders[[\"year\", \"country\", \"target_country\"]].query(\"country in ('E', 'G')\")`\n",
    "- or even the more complete `friendly_orders[[\"year\", \"country\", \"target_country\"]].query(\"country in ('E', 'G') and target_country in ('E', 'G')\")` \n",
    "- to see friendships that matters: `friendships[[c for c in friendships.columns if np.count_nonzero(friendships[c])]]`"
   ]
  },
  {
   "cell_type": "markdown",
   "metadata": {},
   "source": [
    "# Scaling to several games\n",
    "\n",
    "Until now, we have been only looking at a single game. We must start to scale the analysis to a broader range. Let's see what we can do. The first thing to do is to make the process a little more functional by defining methods for each step of the process."
   ]
  },
  {
   "cell_type": "code",
   "execution_count": 29,
   "metadata": {},
   "outputs": [],
   "source": [
    "def get_dataframes(game_id):\n",
    "    orders = all_orders.query(\"game_id == {}\".format(game_id))\n",
    "    turns = all_turns.query(\"game_id == {}\".format(game_id))\n",
    "    units = all_units.query(\"game_id == {}\".format(game_id))\n",
    "    return orders, turns, units"
   ]
  },
  {
   "cell_type": "code",
   "execution_count": 30,
   "metadata": {},
   "outputs": [],
   "source": [
    "def get_empty_friendships(max_year):\n",
    "    countries = ['A', 'E', 'F', 'G', 'I', 'R', 'T']\n",
    "    pairs = [x+y for x in countries for y in countries if y > x]\n",
    "    years = np.arange(1901, max_year + 0.5, 0.5)\n",
    "    # create a dataframe each possible friendships and each years\n",
    "    return pd.DataFrame(columns=pairs, index = years, dtype = np.int8).fillna(0)"
   ]
  },
  {
   "cell_type": "code",
   "execution_count": 31,
   "metadata": {},
   "outputs": [],
   "source": [
    "def process_orders(orders, turns, units):\n",
    "    try:\n",
    "        # 1. compute the country who emitted each order \n",
    "        countries = orders.unit_id.apply(lambda x: units[[\"unit_id\", \"country\"]].query(\"unit_id == {}\".format(x)).country.item())\n",
    "        orders[\"country\"] = countries\n",
    "        # 2. compute the 'encoded year' at which each order was passed\n",
    "        turns[\"season_encoded\"] = turns[\"year\"] + 0.5 * (turns[\"season\"] == \"Fall\")\n",
    "        years = orders.turn_num.apply(lambda x: turns.query(\"turn_num == {}\".format(x)).season_encoded.item())\n",
    "        orders[\"year\"] = years\n",
    "        # 3. get target countries\n",
    "        targets = orders.apply(lambda o: get_target_country(o, orders), axis = 1)\n",
    "        orders[\"target_country\"] = targets\n",
    "        return True\n",
    "    except ValueError:\n",
    "        print(\"Data is corrupted and execution was aborted\")\n",
    "        return False"
   ]
  },
  {
   "cell_type": "code",
   "execution_count": 32,
   "metadata": {},
   "outputs": [],
   "source": [
    "def analyse_game(game, verbose = False):\n",
    "    # get dataframes and process them\n",
    "    orders, turns, units = get_dataframes(game_id = game.id.item())\n",
    "    has_succeeded = process_orders(orders, turns, units)\n",
    "    if not has_succeeded: return None, None, None\n",
    "    \n",
    "    # find acts of friendships / hostility\n",
    "    acts_of_friendships = orders.apply(is_order_act_of_friendship, axis = 1)\n",
    "    acts_of_hostility = orders.apply(is_move_act_of_hostility, axis = 1)\n",
    "    friendly_orders = orders[acts_of_friendships]\n",
    "    hostile_orders = orders[acts_of_hostility]\n",
    "    if verbose:\n",
    "        print(\"- {} acts of friendship and {} acts of hostility over {} orders \".format(len(friendly_orders), len(hostile_orders), len(orders)))\n",
    "    \n",
    "    # construct friendship matrix\n",
    "    if len(friendly_orders) and len(hostile_orders):\n",
    "        friendships = get_empty_friendships(max_year = max(friendly_orders.year.max(), hostile_orders.year.max()))\n",
    "        find_friendships_and_betrayals(friendships, friendly_orders, hostile_orders, N_hostile_min=1)\n",
    "        return friendships, friendly_orders, hostile_orders\n",
    "    else: \n",
    "        return None, None, None"
   ]
  },
  {
   "cell_type": "markdown",
   "metadata": {},
   "source": [
    "Now that we have all our functions, we can verify that we obtain the same results as before (and the answer is \"yes we do\")"
   ]
  },
  {
   "cell_type": "code",
   "execution_count": 33,
   "metadata": {},
   "outputs": [
    {
     "name": "stdout",
     "output_type": "stream",
     "text": [
      "- friendships: ['AI']\n",
      "    * length of friendship:  5\n"
     ]
    }
   ],
   "source": [
    "game = all_games.query(\"id == 37317\")\n",
    "friendships, _, _ = analyse_game(game)\n",
    "if friendships is not None:\n",
    "    analyse_friendships(friendships)\n",
    "else:\n",
    "    print(\"No acts of friendships or no acts of hostility\")"
   ]
  },
  {
   "cell_type": "markdown",
   "metadata": {},
   "source": [
    "We may now try to use those results over more games ! By doing so, one observes that according to our definition, **not all games contain friendships** and **most of the friendships ends - at some point - in a betrayal. This make sense with the 'mindset of the game'. Here is a quote of the creator of the game. No wonders we observe a lot of betrayals.\n",
    "\n",
    "> \"Luck plays no part in Diplomacy. Cunning and cleverness honesty and perfectly-timed betrayal are the tools needed to outwit your fellow players. The most skillful negotiator will climb to victory over the backs of both enemies and friends. Who do you trust?\""
   ]
  },
  {
   "cell_type": "code",
   "execution_count": 34,
   "metadata": {},
   "outputs": [
    {
     "name": "stdout",
     "output_type": "stream",
     "text": [
      "\n",
      "*** Game 80506 ***\n",
      "- friendships: ['IT', 'RT']\n",
      "    * length of friendship  IT  is  5\n",
      "        -> IT  ends betrayed by  I \n",
      "    * length of friendship  RT  is  3\n",
      "        -> RT  ends betrayed by  R \n"
     ]
    }
   ],
   "source": [
    "# let's run this function N times\n",
    "N = 1\n",
    "games_sample = all_games.query(\"num_turns >= 60\").sample(N)\n",
    "for i, game in games_sample.iterrows(): \n",
    "    print(\"\\n*** Game {} ***\".format(game.id.item()))\n",
    "    friendships, _, _ = analyse_game(game)\n",
    "    if friendships is not None:\n",
    "        analyse_friendships(friendships)"
   ]
  },
  {
   "cell_type": "markdown",
   "metadata": {},
   "source": [
    "We also notice that for many games, there are very few acts of friendships. For instance the game '91 843' has 1002 orders that were passed and only '2' of them were considered as acts of friendships. We guess that there are two types of games: those with many alliances and betrayals, and those with more personal games and players not coordinating a lot. We are only interested into the second types, so we will filter a little bit those games the following way. The next section of this notebook will go through generating datasets that are going to be used after for other statistical analysis.\n",
    "\n",
    "# Dataset Generation \n",
    "\n",
    "As the dataset is really heavy, we decided to generate smaller datasets only containing the data that we care about.\n",
    "\n",
    "## 1. Overview of what friendship looks like\n",
    "\n",
    "The next block of code generates a portion of the dataset as numpy objects so that we can later analyse it better. It randomly samples games which have more than 50 turns, because longer games tend to have more friendships (that's about half of all games. as one can see with the .describe function) and if the game has a friendship, it's going to save (i) its game_id and (ii) the generated friendship array as a numpy array (.npy file)"
   ]
  },
  {
   "cell_type": "code",
   "execution_count": 35,
   "metadata": {},
   "outputs": [
    {
     "data": {
      "text/plain": [
       "count    21197.000000\n",
       "mean        47.029391\n",
       "std         16.776897\n",
       "min          2.000000\n",
       "25%         36.000000\n",
       "50%         46.000000\n",
       "75%         56.000000\n",
       "max        467.000000\n",
       "Name: num_turns, dtype: float64"
      ]
     },
     "execution_count": 35,
     "metadata": {},
     "output_type": "execute_result"
    }
   ],
   "source": [
    "# we see that the median number of turns per game is 46\n",
    "all_games.num_turns.describe()"
   ]
  },
  {
   "cell_type": "code",
   "execution_count": 1,
   "metadata": {},
   "outputs": [
    {
     "ename": "NameError",
     "evalue": "name 'all_games' is not defined",
     "output_type": "error",
     "traceback": [
      "\u001b[0;31m---------------------------------------------------------------------------\u001b[0m",
      "\u001b[0;31mNameError\u001b[0m                                 Traceback (most recent call last)",
      "\u001b[0;32m<ipython-input-1-9ca7d7349c44>\u001b[0m in \u001b[0;36m<module>\u001b[0;34m\u001b[0m\n\u001b[1;32m      7\u001b[0m \u001b[0mgames_feature\u001b[0m \u001b[0;34m=\u001b[0m \u001b[0;34m[\u001b[0m\u001b[0;34m]\u001b[0m\u001b[0;34m\u001b[0m\u001b[0;34m\u001b[0m\u001b[0m\n\u001b[1;32m      8\u001b[0m \u001b[0;34m\u001b[0m\u001b[0m\n\u001b[0;32m----> 9\u001b[0;31m \u001b[0mgames\u001b[0m \u001b[0;34m=\u001b[0m \u001b[0mall_games\u001b[0m\u001b[0;34m.\u001b[0m\u001b[0mquery\u001b[0m\u001b[0;34m(\u001b[0m\u001b[0;34m\"num_turns >= 50\"\u001b[0m\u001b[0;34m)\u001b[0m\u001b[0;34m\u001b[0m\u001b[0;34m\u001b[0m\u001b[0m\n\u001b[0m\u001b[1;32m     10\u001b[0m \u001b[0;34m\u001b[0m\u001b[0m\n\u001b[1;32m     11\u001b[0m \u001b[0ms\u001b[0m \u001b[0;34m=\u001b[0m \u001b[0mtime\u001b[0m\u001b[0;34m.\u001b[0m\u001b[0mtime\u001b[0m\u001b[0;34m(\u001b[0m\u001b[0;34m)\u001b[0m\u001b[0;34m\u001b[0m\u001b[0;34m\u001b[0m\u001b[0m\n",
      "\u001b[0;31mNameError\u001b[0m: name 'all_games' is not defined"
     ]
    }
   ],
   "source": [
    "N = 5\n",
    "n_games = N\n",
    "verbose = False\n",
    "\n",
    "game_ids = []\n",
    "all_friendships = []\n",
    "games_feature = []\n",
    "\n",
    "games = all_games.query(\"num_turns >= 50\")\n",
    "\n",
    "s = time.time()\n",
    "while n_games:\n",
    "    game = games.query(\"id not in @game_ids\").sample(1)\n",
    "    game_id = game.id.item()\n",
    "    friendships, friendly, hostile = analyse_game(game, verbose = verbose)\n",
    "    if friendships is not None:\n",
    "        cols = [col for col in friendships.columns if np.count_nonzero(friendships[col] != 0)]\n",
    "        if True: #len(cols):\n",
    "            print(\"games to find: \", n_games)\n",
    "            n_games -= 1\n",
    "            game_ids.append(game_id)\n",
    "            all_friendships.append(friendships.values)\n",
    "            games_feature.append((len(friendly), len(hostile), game.num_turns.item()))\n",
    "            \n",
    "            if verbose:\n",
    "                print(\"Valid GAME was found: \", game_id)\n",
    "                analyse_friendships(friendships)\n",
    "                print(\"\")\n",
    "e = time.time()\n",
    "\n",
    "print(\"elapsed: \", e-s)\n",
    "\n",
    "## TO SAVE:  UNCOMMENT THIS\n",
    "# np.save(\"data/subset_T{}_N1_unfiltered/games_id.npy\".format(N), np.array(game_ids))\n",
    "# np.save(\"data/subset_T{}_N1_unfiltered/games_features_id.npy\".format(N), np.array(games_feature, dtype=object))\n",
    "# np.save(\"data/subset_T{}_N1_unfiltered/friendships.npy\".format(N), np.array(all_friendships, dtype=object))"
   ]
  },
  {
   "cell_type": "markdown",
   "metadata": {},
   "source": [
    "## 2. Features generation for machine learning analysis\n",
    "\n",
    "Let's generate some features that we can later analyse using machine learning methods. \n",
    "\n",
    "We want to have 250 betrayals and 250 lastingfriendships. However, it is not the friendships that we care about, but it is rather the seasons of each friendship. Indeed, we want to detect if a player will betray his/her ally during the next season , hence the 'input' of the classifier will be each season of each of those games. \n",
    "\n",
    "The first thing to do is write a function `get_features` which, given a friendship and its context (*hence the actions of the involved players*), returns an array of values used to train a machine learning classifier."
   ]
  },
  {
   "cell_type": "code",
   "execution_count": 2,
   "metadata": {},
   "outputs": [],
   "source": [
    "def get_xy(code, seasons): \n",
    "    \"\"\"Given a friendship code and an array of seasons, it will return the betrayer and the victim.\n",
    "    If no betrayal happens, it picked randomly who is what. \n",
    "    \"\"\"\n",
    "    # find x and y\n",
    "    xy = list(code)\n",
    "    if type(seasons[-1]) == str: \n",
    "        x = seasons[-1]\n",
    "    else:\n",
    "        x = xy[np.random.randint(2)]\n",
    "    xy.remove(x)\n",
    "    y = xy[0]\n",
    "    return x,y\n",
    "\n",
    "\n",
    "columns = [\"game_id\", \"has_betrayal\", \"length\", \"outcome\" ,\"n_aoh_x\", \"n_aoh_y\", \"n_aos_x\", \"n_aos_y\", \"supports_xy\" , \"supports_yx\"]\n",
    "\n",
    "\n",
    "def get_features(game_id, has_betrayal, friendship, friendly_orders, hostile_orders):\n",
    "    \"\"\"\n",
    "    Given the friendships' column representing 1 friendship and several other parameters about the context,\n",
    "    it will create all the feature vectors for each season, and will return them all together \n",
    "    as a Pandas dataframe. \n",
    "    \n",
    "    Parameters\n",
    "    game_id (int)\n",
    "    has_betrayal (bool)\n",
    "    friendship (pd.Serie): column representing the friendship in the friendships frame\n",
    "    friendly_orders: all friendly orders for this game\n",
    "    hostile_orders: all hostile orders for this game\n",
    "    \n",
    "    Notations\n",
    "    X = 'betrayer'\n",
    "    Y = 'betrayed' = 'victim'\n",
    "    \"\"\"\n",
    "    # n = len(friendship[friendship != 0])\n",
    "    n = len(friendship[friendship == 1])\n",
    "    features = pd.DataFrame(data=np.zeros(shape=(n, len(columns))),columns = columns)\n",
    "        \n",
    "    \n",
    "    # find betrayals inside this friendship\n",
    "    betrayals = [type(s) == str for s in friendship]\n",
    "    code = friendship.name\n",
    "    # some very rare games have more than 1 betrayal: 90346\n",
    "    # hence we split the friendshiè into its sub-component\n",
    "    splitted = np.split(friendship.values, np.where(betrayals)[0]+1)    \n",
    "\n",
    "    # i: iterator over rows inside the features dataframe\n",
    "    # j: iterator inside the splitted array we are using\n",
    "    # s: iterator over each splitted array we are using\n",
    "    i,j,s = 0,0,0\n",
    "    for year, season in friendship.iteritems():\n",
    "        if not season: continue\n",
    "            \n",
    "        if type(season) == str: \n",
    "            # the betrayals happens --> let's pass to the next splitted\n",
    "            features.loc[i-1,\"outcome\"] = 1\n",
    "            s += 1\n",
    "            j = 0\n",
    "        else:\n",
    "            # it means this is a season where: \n",
    "            # - the 2 playes are engaged in a friendship\n",
    "            # - there is no betrayal (yet...)\n",
    "            x,y = get_xy(code, splitted[s])\n",
    "            # 1. Easy features\n",
    "            features.loc[i,\"game_id\"] = game_id\n",
    "            features.loc[i,\"has_betrayal\"] = has_betrayal\n",
    "            features.loc[i,\"length\"] = j+1\n",
    "            features.loc[i,\"outcome\"] = 0\n",
    "            # 2. number of acts of hostility\n",
    "            # a. n_aoh_x\n",
    "            h_query = hostile_orders.query(\"country == @x & year == @year\")\n",
    "            features.loc[i,\"n_aoh_x\"] = len(h_query)\n",
    "            # b. n_aoh_y\n",
    "            h_query = hostile_orders.query(\"country == @y & year == @year\")\n",
    "            features.loc[i,\"n_aoh_y\"] = len(h_query)\n",
    "            # 3. number of AoS emitted towars other players \n",
    "            # a. n_aos_x\n",
    "            f_query = friendly_orders.query(\"country == @x & target_country != @y & year == @year\")\n",
    "            features.loc[i,\"n_aos_x\"] = len(f_query)\n",
    "            # a. n_aos_y\n",
    "            f_query = friendly_orders.query(\"country == @y & target_country != @x & year == @year\")\n",
    "            features.loc[i,\"n_aos_y\"] = len(f_query)\n",
    "            # 4. Average number of mutual supports for last 3 seasons\n",
    "            # y to x\n",
    "            supports_yx = friendly_orders.query(\"country == @y & target_country == @x & year <= @year & year > (@year-1.5)\"\n",
    "                                               ).groupby(\"year\").apply(len)\n",
    "            if len(supports_yx): features.loc[i,\"supports_yx\"] = supports_yx.mean()\n",
    "            # x to y \n",
    "            supports_xy = friendly_orders.query(\"country == @x & target_country == @y & year <= @year & year > (@year-1.5)\"\n",
    "                                               ).groupby(\"year\").apply(len)\n",
    "            if len(supports_xy):features.loc[i,\"supports_xy\"] = supports_xy.mean()\n",
    "            # last. increment steppers\n",
    "            i += 1 \n",
    "            j += 1\n",
    "            \n",
    "    return features    "
   ]
  },
  {
   "cell_type": "markdown",
   "metadata": {},
   "source": [
    "This block of code is only used for debugging. It just creates the variables required to test the `get_features` the following way."
   ]
  },
  {
   "cell_type": "code",
   "execution_count": null,
   "metadata": {},
   "outputs": [],
   "source": [
    "# try this fonction with one game in particular \n",
    "# IDs with several things: 90346, 86785, 103566, 100325\n",
    "game = all_games.query(\"id == 86785\")\n",
    "game_id = game.id.item()\n",
    "friendships, friendly_orders, hostile_orders = analyse_game(game, verbose = True)\n",
    "cols = [col for col in friendships.columns if np.count_nonzero(friendships[col] != 0)]\n",
    "c = cols[0]\n",
    "friendship = friendships[c]\n",
    "get_features(game_id,True , friendship, friendly_orders, hostile_orders)"
   ]
  },
  {
   "cell_type": "markdown",
   "metadata": {},
   "source": [
    "Now that we no how to extract features, let's do that many times over 2N games."
   ]
  },
  {
   "cell_type": "code",
   "execution_count": null,
   "metadata": {},
   "outputs": [],
   "source": [
    "### Code to generate machine learning dataset\n",
    "N = 5\n",
    "verbose = False\n",
    "\n",
    "visited_ids = []\n",
    "n_betrayal, n_no_betrayal = N,N\n",
    "features = pd.DataFrame(data=np.zeros(shape=(0, len(columns))),columns = columns)\n",
    "\n",
    "s = time.time()\n",
    "games = all_games.query(\"num_turns >= 50\")\n",
    "while n_betrayal or n_no_betrayal:\n",
    "    # get one game\n",
    "    game = games.query(\"id not in @visited_ids\").sample(1)\n",
    "    game_id = game.id.item()\n",
    "    visited_ids.append(game_id)\n",
    "    \n",
    "    # perform our analysis of the game, and test for skip condition\n",
    "    friendships, friendly_orders, hostile_orders = analyse_game(game, verbose = verbose)\n",
    "    if friendships is None: continue\n",
    "        \n",
    "    # extract columns that matters, and test for skip condition\n",
    "    cols = [col for col in friendships.columns if np.count_nonzero(friendships[col] != 0)]\n",
    "    if not len(cols): continue\n",
    "    \n",
    "    # for each friendship:\n",
    "    for c in cols:\n",
    "        friendship = friendships[c]\n",
    "        # 1. check if there is a betrayal\n",
    "        if type(friendship[friendship != 0].iloc[-1]) == str:\n",
    "            # there is a betrayal\n",
    "            if n_betrayal: \n",
    "                # 2. get the features\n",
    "                game_features = get_features(game_id, True, friendship, friendly_orders, hostile_orders)\n",
    "                features = pd.concat([features, game_features])\n",
    "                n_betrayal -= 1\n",
    "                # todo: find features\n",
    "        else:\n",
    "            # there is no betrayal\n",
    "            if n_no_betrayal:\n",
    "                # 2. get the features\n",
    "                game_features = get_features(game_id, False, friendship, friendly_orders, hostile_orders)\n",
    "                features = pd.concat([features, game_features])\n",
    "                # there wasn't a betrayal\n",
    "                n_no_betrayal -= 1\n",
    "            \n",
    "        \n",
    "            \n",
    "            \n",
    "    print(\"games still to find:  {} with betrayal and {} without betrayals\".format(n_betrayal, n_no_betrayal))\n",
    "    if verbose:\n",
    "        print(\"Valid GAME was found: \", game_id)\n",
    "        analyse_friendships(friendships)\n",
    "        print(\"\")\n",
    "e = time.time()\n",
    "\n",
    "print(\"elapsed: \", e-s)\n",
    "## UNCOMMENT to save\n",
    "# features.to_pickle(\"data/features_B10_V10_N1/features.pkl\")\n",
    "features"
   ]
  },
  {
   "cell_type": "markdown",
   "metadata": {},
   "source": [
    "# Descriptive statistics\n",
    "\n",
    "We look at the **outcome** (binary) considering the **treatment**, which can be:\n",
    "- engaged: player who was engaged in a friendship\n",
    "- single: player who was not engaged in a friendship\n",
    "\n",
    "And for engaged player, there is an aditional treatment: \n",
    "- betrayer: player who betrayed another one\n",
    "- betrayed: player who ended up betrayed by another\n",
    "- neutral: player who was not engaged in a *broken* friendship\n",
    "\n",
    "In order to answer this question, let's define a few functions that we will use in the later analysis."
   ]
  },
  {
   "cell_type": "code",
   "execution_count": 4,
   "metadata": {},
   "outputs": [],
   "source": [
    "countries = ['A', 'E', 'F', 'G', 'I', 'R', 'T']\n",
    "pairs = [x+y for x in countries for y in countries if y > x]"
   ]
  },
  {
   "cell_type": "code",
   "execution_count": 5,
   "metadata": {},
   "outputs": [],
   "source": [
    "def get_engageds(friendships):\n",
    "    \"\"\"Returns the players engaged in a friendship\"\"\"\n",
    "    cols = [col for col in friendships.columns if np.count_nonzero(friendships[col] != 0)]\n",
    "    return list(set(''.join(cols)))\n",
    "\n",
    "def get_singles(engageds):\n",
    "    \"\"\"Returns players not engaged in a friendship\"\"\"\n",
    "    singles = countries.copy()\n",
    "    for engaged in engageds:\n",
    "        singles.remove(engaged)\n",
    "    return singles"
   ]
  },
  {
   "cell_type": "code",
   "execution_count": 6,
   "metadata": {},
   "outputs": [],
   "source": [
    "def get_betrayers_and_betrayed(friendships):\n",
    "    \"\"\"Given the Friendships dataframe as defined in our analysis, returns all the players who commited \n",
    "    betrayals and all players who ended up betrayed\"\"\"\n",
    "    cols = [col for col in friendships.columns if np.count_nonzero(friendships[col] != 0)]\n",
    "    betrayers = []\n",
    "    betrayeds = []\n",
    "    for c in cols: \n",
    "        tmp = friendships[c]\n",
    "        values = tmp[tmp != 0].values\n",
    "        if type(values[-1]) == str: \n",
    "            betrayer = values[-1]\n",
    "            betrayers.append(betrayer)\n",
    "            tmp = list(c)\n",
    "            tmp.remove(betrayer)\n",
    "            betrayeds.append(tmp[0])\n",
    "            \n",
    "    return betrayers, betrayeds\n",
    "\n",
    "def get_neutrals(betrayers, betrayeds):\n",
    "    \"\"\"Given betrayers and betrayeds players of a game, returns the list of players\n",
    "    who were not involved in a broken friendship\n",
    "    \n",
    "    Required: player must be 'engaged'\n",
    "    \"\"\"\n",
    "    neutrals = countries.copy()\n",
    "    for b in betrayers: \n",
    "        if b in neutrals: neutrals.remove(b)\n",
    "    for b in betrayeds: \n",
    "        if b in neutrals: neutrals.remove(b)\n",
    "    return neutrals"
   ]
  },
  {
   "cell_type": "code",
   "execution_count": 7,
   "metadata": {},
   "outputs": [],
   "source": [
    "def get_winners(game_id):\n",
    "    winner = all_players.query(\"game_id == @game_id & won == 1\")\n",
    "    return winner.country.values\n",
    "\n",
    "def get_losers(winners):\n",
    "    loosers = countries.copy()\n",
    "    for w in winners: loosers.remove(w)\n",
    "    return loosers"
   ]
  },
  {
   "cell_type": "code",
   "execution_count": 8,
   "metadata": {},
   "outputs": [],
   "source": [
    "# load the data to analyse\n",
    "games_id = np.load(\"data/subset_T500_N1/games_id.npy\")\n",
    "all_friendships = np.load(\"data/subset_T500_N1/friendships.npy\", allow_pickle=True)\n",
    "verbose = False\n",
    "\n",
    "data_overall = np.zeros(shape = (2,2))\n",
    "data_engaged = np.zeros(shape = (3,2))\n",
    "\n",
    "treatments_overall = [\"single\", \"engaged\"]\n",
    "treatments_engaged = [\"betrayer\", \"betrayed\", \"neutral\"]\n",
    "outcomes = [\"winner\", \"loser\"]\n",
    "\n",
    "stats_overall = pd.DataFrame(data_overall, index = treatments_overall, columns = outcomes )\n",
    "stats_engageds = pd.DataFrame(data_engaged, index = treatments_engaged, columns = outcomes )\n",
    "\n",
    "N = len(games_id)\n",
    "for i, game_id in enumerate(games_id):\n",
    "    # reconstruct the obtained data\n",
    "    data = all_friendships[i]\n",
    "    years = np.arange(1901, 1901 + data.shape[0] * 0.5, 0.5)\n",
    "    friendships = pd.DataFrame(data = all_friendships[i], columns = pairs, index = years)\n",
    "    \n",
    "    # get outcomes\n",
    "    winners = get_winners(game_id)\n",
    "    losers = get_losers(winners)\n",
    "    \n",
    "    # get treatment 1 \n",
    "    engageds = get_engageds(friendships)\n",
    "    singles = get_singles(engageds)\n",
    "    \n",
    "    # get treatment 2\n",
    "    betrayers, betrayeds = get_betrayers_and_betrayed(friendships)\n",
    "    neutrals = get_neutrals(betrayers, betrayeds)\n",
    "    \n",
    "    # overal statistics\n",
    "    for w in winners:\n",
    "        if w in singles: stats_overall.loc[\"single\", \"winner\"] += 1\n",
    "        if w in engageds: stats_overall.loc[\"engaged\", \"winner\"] += 1\n",
    "    for l in losers:\n",
    "        if l in singles: stats_overall.loc[\"single\", \"loser\"] += 1\n",
    "        if l in engageds: stats_overall.loc[\"engaged\", \"loser\"] += 1\n",
    "    \n",
    "    # statistics about betrayers: \n",
    "    for winner in winners: \n",
    "        if winner in engageds: \n",
    "            if winner in betrayers: stats_engageds.loc[\"betrayer\", \"winner\"] += 1\n",
    "            if winner in betrayeds: stats_engageds.loc[\"betrayed\", \"winner\"] += 1\n",
    "            if winner in neutrals: stats_engageds.loc[\"neutral\", \"winner\"] += 1\n",
    "    for loser in losers: \n",
    "        if winner in engageds:\n",
    "            if loser in betrayers: stats_engageds.loc[\"betrayer\", \"loser\"] += 1\n",
    "            if loser in betrayeds: stats_engageds.loc[\"betrayed\", \"loser\"] += 1\n",
    "            if loser in neutrals: stats_engageds.loc[\"neutral\", \"loser\"] += 1\n",
    "            \n",
    "    if verbose:\n",
    "        print(\"\\nGame\",i)\n",
    "        print(\"Winners: \", winners, \" and Losers\", losers)\n",
    "        print(\"Betrayers: \", betrayers, \" and Betrayed\", betrayeds)\n",
    "        print(\"Neutrals: \", neutrals)\n",
    "\n"
   ]
  },
  {
   "cell_type": "code",
   "execution_count": 9,
   "metadata": {},
   "outputs": [
    {
     "name": "stdout",
     "output_type": "stream",
     "text": [
      "Statistics over all dataset\n"
     ]
    },
    {
     "data": {
      "text/html": [
       "<div>\n",
       "<style scoped>\n",
       "    .dataframe tbody tr th:only-of-type {\n",
       "        vertical-align: middle;\n",
       "    }\n",
       "\n",
       "    .dataframe tbody tr th {\n",
       "        vertical-align: top;\n",
       "    }\n",
       "\n",
       "    .dataframe thead th {\n",
       "        text-align: right;\n",
       "    }\n",
       "</style>\n",
       "<table border=\"1\" class=\"dataframe\">\n",
       "  <thead>\n",
       "    <tr style=\"text-align: right;\">\n",
       "      <th></th>\n",
       "      <th>winner</th>\n",
       "      <th>loser</th>\n",
       "      <th>win_ratio</th>\n",
       "    </tr>\n",
       "  </thead>\n",
       "  <tbody>\n",
       "    <tr>\n",
       "      <th>single</th>\n",
       "      <td>186.0</td>\n",
       "      <td>1947.0</td>\n",
       "      <td>0.087201</td>\n",
       "    </tr>\n",
       "    <tr>\n",
       "      <th>engaged</th>\n",
       "      <td>371.0</td>\n",
       "      <td>996.0</td>\n",
       "      <td>0.271397</td>\n",
       "    </tr>\n",
       "  </tbody>\n",
       "</table>\n",
       "</div>"
      ],
      "text/plain": [
       "         winner   loser  win_ratio\n",
       "single    186.0  1947.0   0.087201\n",
       "engaged   371.0   996.0   0.271397"
      ]
     },
     "execution_count": 9,
     "metadata": {},
     "output_type": "execute_result"
    }
   ],
   "source": [
    "win_ratio = stats_overall.winner / (stats_overall.loser + stats_overall.winner)\n",
    "stats_overall[\"win_ratio\"] = win_ratio\n",
    "print(\"Statistics over all dataset\")\n",
    "stats_overall"
   ]
  },
  {
   "cell_type": "code",
   "execution_count": 10,
   "metadata": {},
   "outputs": [
    {
     "name": "stdout",
     "output_type": "stream",
     "text": [
      "Statistics over players engaged in a friendship\n"
     ]
    },
    {
     "data": {
      "text/html": [
       "<div>\n",
       "<style scoped>\n",
       "    .dataframe tbody tr th:only-of-type {\n",
       "        vertical-align: middle;\n",
       "    }\n",
       "\n",
       "    .dataframe tbody tr th {\n",
       "        vertical-align: top;\n",
       "    }\n",
       "\n",
       "    .dataframe thead th {\n",
       "        text-align: right;\n",
       "    }\n",
       "</style>\n",
       "<table border=\"1\" class=\"dataframe\">\n",
       "  <thead>\n",
       "    <tr style=\"text-align: right;\">\n",
       "      <th></th>\n",
       "      <th>winner</th>\n",
       "      <th>loser</th>\n",
       "      <th>win_ratio</th>\n",
       "    </tr>\n",
       "  </thead>\n",
       "  <tbody>\n",
       "    <tr>\n",
       "      <th>betrayer</th>\n",
       "      <td>133.0</td>\n",
       "      <td>126.0</td>\n",
       "      <td>0.513514</td>\n",
       "    </tr>\n",
       "    <tr>\n",
       "      <th>betrayed</th>\n",
       "      <td>70.0</td>\n",
       "      <td>189.0</td>\n",
       "      <td>0.270270</td>\n",
       "    </tr>\n",
       "    <tr>\n",
       "      <th>neutral</th>\n",
       "      <td>171.0</td>\n",
       "      <td>1610.0</td>\n",
       "      <td>0.096013</td>\n",
       "    </tr>\n",
       "  </tbody>\n",
       "</table>\n",
       "</div>"
      ],
      "text/plain": [
       "          winner   loser  win_ratio\n",
       "betrayer   133.0   126.0   0.513514\n",
       "betrayed    70.0   189.0   0.270270\n",
       "neutral    171.0  1610.0   0.096013"
      ]
     },
     "execution_count": 10,
     "metadata": {},
     "output_type": "execute_result"
    }
   ],
   "source": [
    "win_ratio = stats_engageds.winner / (stats_engageds.loser + stats_engageds.winner)\n",
    "stats_engageds[\"win_ratio\"] = win_ratio\n",
    "print(\"Statistics over players engaged in a friendship\")\n",
    "stats_engageds"
   ]
  },
  {
   "cell_type": "markdown",
   "metadata": {},
   "source": [
    "What can we see here ? \n",
    "- among all players that were involved in a broken friendship (either *betrayer* or *betrayed*) the chances of winning go towards the betrayer. Betrayed players have much higher chances of loosing and about 5 times less chances of winning. . .. \n",
    "- the neutral players represents the majority of players, however their chances of winning are not much bigger than the chances of win than betrayed people. \n",
    "\n",
    "These results make us strongly believe that **betrayals strongly influence the outcome of the game**. \n",
    "\n",
    "What can we do next ? \n",
    "\n",
    "- select 250 games with  and without betrayals (and all with friendships), then do a matching based on the games properties, and look at what differs once a betrayal happened for the players who were engaged in a friendship !\n",
    "\n",
    "- quantify agressivity of players towards others, and using the same dataset as before, try to see what happens to a player that was betrayed"
   ]
  },
  {
   "cell_type": "markdown",
   "metadata": {},
   "source": [
    "# Machine Learning Analysis: can we predict betrayals using game features ? \n",
    "\n",
    "We want to perform a logistic regression with our collected features."
   ]
  },
  {
   "cell_type": "code",
   "execution_count": 11,
   "metadata": {},
   "outputs": [
    {
     "data": {
      "text/html": [
       "<div>\n",
       "<style scoped>\n",
       "    .dataframe tbody tr th:only-of-type {\n",
       "        vertical-align: middle;\n",
       "    }\n",
       "\n",
       "    .dataframe tbody tr th {\n",
       "        vertical-align: top;\n",
       "    }\n",
       "\n",
       "    .dataframe thead th {\n",
       "        text-align: right;\n",
       "    }\n",
       "</style>\n",
       "<table border=\"1\" class=\"dataframe\">\n",
       "  <thead>\n",
       "    <tr style=\"text-align: right;\">\n",
       "      <th></th>\n",
       "      <th>game_id</th>\n",
       "      <th>has_betrayal</th>\n",
       "      <th>length</th>\n",
       "      <th>outcome</th>\n",
       "      <th>n_aoh_x</th>\n",
       "      <th>n_aoh_y</th>\n",
       "      <th>n_aos_x</th>\n",
       "      <th>n_aos_y</th>\n",
       "      <th>supports_xy</th>\n",
       "      <th>supports_yx</th>\n",
       "    </tr>\n",
       "  </thead>\n",
       "  <tbody>\n",
       "    <tr>\n",
       "      <th>0</th>\n",
       "      <td>54754.0</td>\n",
       "      <td>True</td>\n",
       "      <td>1.0</td>\n",
       "      <td>0.0</td>\n",
       "      <td>2.0</td>\n",
       "      <td>1.0</td>\n",
       "      <td>0.0</td>\n",
       "      <td>0.0</td>\n",
       "      <td>0.0</td>\n",
       "      <td>1.0</td>\n",
       "    </tr>\n",
       "    <tr>\n",
       "      <th>1</th>\n",
       "      <td>54754.0</td>\n",
       "      <td>True</td>\n",
       "      <td>2.0</td>\n",
       "      <td>0.0</td>\n",
       "      <td>1.0</td>\n",
       "      <td>4.0</td>\n",
       "      <td>0.0</td>\n",
       "      <td>0.0</td>\n",
       "      <td>1.0</td>\n",
       "      <td>1.0</td>\n",
       "    </tr>\n",
       "  </tbody>\n",
       "</table>\n",
       "</div>"
      ],
      "text/plain": [
       "   game_id has_betrayal  length  outcome  n_aoh_x  n_aoh_y  n_aos_x  n_aos_y  \\\n",
       "0  54754.0         True     1.0      0.0      2.0      1.0      0.0      0.0   \n",
       "1  54754.0         True     2.0      0.0      1.0      4.0      0.0      0.0   \n",
       "\n",
       "   supports_xy  supports_yx  \n",
       "0          0.0          1.0  \n",
       "1          1.0          1.0  "
      ]
     },
     "execution_count": 11,
     "metadata": {},
     "output_type": "execute_result"
    }
   ],
   "source": [
    "import statsmodels.formula.api as smf\n",
    "from sklearn.metrics import (confusion_matrix, accuracy_score, plot_confusion_matrix) \n",
    "\n",
    "features = pd.read_pickle(\"data/features_B200_V0_N1/features.pkl\")\n",
    "features.head(2)"
   ]
  },
  {
   "cell_type": "code",
   "execution_count": 12,
   "metadata": {},
   "outputs": [],
   "source": [
    "# 1. Normalisation \n",
    "predictors = [\"length\", \"n_aoh_x\", \"n_aoh_y\",\"n_aos_x\", \"n_aos_y\", \"supports_xy\", \"supports_yx\"]\n",
    "features = features[predictors + [\"outcome\"]]\n",
    "\n",
    "def get_means_and_stds(features, predictors):\n",
    "    means = []\n",
    "    stds = []\n",
    "    for p in predictors: \n",
    "        means.append(features[p].mean())\n",
    "        stds.append(features[p].std())\n",
    "    return means, stds\n",
    "\n",
    "def normalise_preds(features, predictors, means, stds):\n",
    "    for i, p in enumerate(predictors): \n",
    "        features[p] = (features[p] - means[i]) / stds[i]\n",
    "        \n",
    "        \n",
    "means, stds = get_means_and_stds(features, predictors)\n",
    "normalise_preds(features, predictors, means, stds)"
   ]
  },
  {
   "cell_type": "code",
   "execution_count": 13,
   "metadata": {},
   "outputs": [
    {
     "data": {
      "text/plain": [
       "'outcome ~ length + n_aoh_x + n_aoh_y + n_aos_x + n_aos_y + supports_xy + supports_yx'"
      ]
     },
     "execution_count": 13,
     "metadata": {},
     "output_type": "execute_result"
    }
   ],
   "source": [
    "# 2. Create the regression formula\n",
    "formula = \"outcome ~ \" + ' + '.join(predictors)\n",
    "formula"
   ]
  },
  {
   "cell_type": "code",
   "execution_count": 14,
   "metadata": {},
   "outputs": [
    {
     "name": "stdout",
     "output_type": "stream",
     "text": [
      "Optimization terminated successfully.\n",
      "         Current function value: 0.370756\n",
      "         Iterations 6\n",
      "                           Logit Regression Results                           \n",
      "==============================================================================\n",
      "Dep. Variable:                outcome   No. Observations:                 1580\n",
      "Model:                          Logit   Df Residuals:                     1572\n",
      "Method:                           MLE   Df Model:                            7\n",
      "Date:                Thu, 17 Dec 2020   Pseudo R-squ.:                 0.07336\n",
      "Time:                        13:14:50   Log-Likelihood:                -585.79\n",
      "converged:                       True   LL-Null:                       -632.17\n",
      "Covariance Type:            nonrobust   LLR p-value:                 3.359e-17\n",
      "===============================================================================\n",
      "                  coef    std err          z      P>|z|      [0.025      0.975]\n",
      "-------------------------------------------------------------------------------\n",
      "Intercept      -2.0005      0.083    -24.208      0.000      -2.162      -1.839\n",
      "length          0.5082      0.068      7.431      0.000       0.374       0.642\n",
      "n_aoh_x         0.0500      0.075      0.662      0.508      -0.098       0.198\n",
      "n_aoh_y         0.1750      0.073      2.401      0.016       0.032       0.318\n",
      "n_aos_x         0.1160      0.067      1.738      0.082      -0.015       0.247\n",
      "n_aos_y        -0.1092      0.083     -1.317      0.188      -0.272       0.053\n",
      "supports_xy     0.3878      0.074      5.247      0.000       0.243       0.533\n",
      "supports_yx     0.2970      0.077      3.876      0.000       0.147       0.447\n",
      "===============================================================================\n"
     ]
    }
   ],
   "source": [
    "# 3. Make the regression\n",
    "mod = smf.logit(formula = formula, data = features)\n",
    "res = mod.fit()\n",
    "print(res.summary())"
   ]
  },
  {
   "cell_type": "markdown",
   "metadata": {},
   "source": [
    "## Classification Assessment\n",
    "\n",
    "Now that we have fitted a regression model, it is quite hard to interpret the summary. However, we can use additional metrics to see if our model is doing anything like we want to it.\n",
    "\n",
    "It was for this purpose that we generated another set of points: the testing dataset.\n",
    "\n",
    "Let's also focus our attention on the seasons where a real betrayal happened, and let's see if this classifier worked properly. It is for this reason that we test the results on the seasons of the testing set with betrayal."
   ]
  },
  {
   "cell_type": "code",
   "execution_count": 15,
   "metadata": {},
   "outputs": [
    {
     "data": {
      "text/plain": [
       "array([0., 0., 0., 0., 0., 0., 0., 0., 0., 0., 0., 0., 0., 0., 0., 0., 0.,\n",
       "       0., 0., 0., 0., 1.])"
      ]
     },
     "execution_count": 15,
     "metadata": {},
     "output_type": "execute_result"
    }
   ],
   "source": [
    "# 1. read the test dataset\n",
    "features_test = pd.read_pickle(\"data/features_B20_V0_N1/features.pkl\")\n",
    "normalise_preds(features_test, predictors, means, stds)\n",
    "\n",
    "X_test = features_test.query(\"outcome == 1\")[predictors]\n",
    "y_test = features_test.query(\"outcome == 1\")[\"outcome\"]\n",
    "\n",
    "# 2. predict values and get the binary output\n",
    "predictions = res.predict(X_test)\n",
    "binaries = predictions.values.round()\n",
    "binaries"
   ]
  },
  {
   "cell_type": "markdown",
   "metadata": {},
   "source": [
    "The first metric we can look at is the [accuracy score](https://scikit-learn.org/stable/modules/model_evaluation.html#accuracy-score)."
   ]
  },
  {
   "cell_type": "code",
   "execution_count": 16,
   "metadata": {},
   "outputs": [
    {
     "data": {
      "text/plain": [
       "0.045454545454545456"
      ]
     },
     "execution_count": 16,
     "metadata": {},
     "output_type": "execute_result"
    }
   ],
   "source": [
    "# 2. accuracy score\n",
    "accuracy_score(y_test, binaries)"
   ]
  },
  {
   "cell_type": "markdown",
   "metadata": {},
   "source": [
    "We see that we obtain about 45% of accuracy. Is this good ? Well, it is possible to compare this result with a **dummy estimator** to see if our models performs better than stupid ones. Here, there are several possibilities.\n",
    "- The 'dumbest' estimator will perform better than this one. Indeed, guessing uniformly between either zero or one will give a 50% chance level to detect betrayals, when only trying to detect betrayals. So when looking dumbly at this task, it looks like what we have isn't good. However, such a result isn't so useful: indeed, there is a strong imbalance in the class labels and if a classifier says that only 50% of seasons are betrayal, it's a really bad. The reason it performs better here is because we selected only seasons where a betrayal happened.\n",
    "- Another 'dummy' estimator is a stratified one: it generates random predictions by respecting the training set class distribution. We using this one, we obtain a classification score of 10%, which is now a lot less than what was obtained with our predictor."
   ]
  },
  {
   "cell_type": "code",
   "execution_count": 17,
   "metadata": {},
   "outputs": [
    {
     "data": {
      "text/plain": [
       "0.22727272727272727"
      ]
     },
     "execution_count": 17,
     "metadata": {},
     "output_type": "execute_result"
    }
   ],
   "source": [
    "# 3. dummy estimator for sanity check\n",
    "from sklearn.dummy import DummyClassifier\n",
    "clf = DummyClassifier(strategy='stratified', random_state=0)\n",
    "X_train = features[predictors]\n",
    "y_train = features[\"outcome\"]\n",
    "\n",
    "clf.fit(X_train, y_train)\n",
    "clf.score(X_test, y_test)"
   ]
  },
  {
   "cell_type": "markdown",
   "metadata": {},
   "source": [
    "We can try to understand more using the confusion matrix. Here, betrayals are marked as negatives. The rows represent the actual classes (first row means no betrayal, second row means betrayal) and the columns represent the predicted class (first row means predicted as no betrayals, second row means predicted as betrayal)."
   ]
  },
  {
   "cell_type": "code",
   "execution_count": 18,
   "metadata": {},
   "outputs": [
    {
     "data": {
      "text/plain": [
       "array([[ 0,  0],\n",
       "       [21,  1]])"
      ]
     },
     "execution_count": 18,
     "metadata": {},
     "output_type": "execute_result"
    }
   ],
   "source": [
    "m = confusion_matrix(y_test, binaries)\n",
    "m"
   ]
  },
  {
   "cell_type": "markdown",
   "metadata": {},
   "source": [
    "With our predictor, about 45% of betrayals are detected as so. One could think that this information is not enough for proclaming \"good classifier\", because what matters isn't only the 'True Betrayer' but also what happens to the seasons leading to a betrayer (i.e., what about 'False Betrayal' and 'True No Betrayal'. To investigate this result, one can run our previous analysis again without looking only at seasons where betrayal happened."
   ]
  },
  {
   "cell_type": "code",
   "execution_count": 19,
   "metadata": {},
   "outputs": [
    {
     "data": {
      "text/plain": [
       "0.8465909090909091"
      ]
     },
     "execution_count": 19,
     "metadata": {},
     "output_type": "execute_result"
    }
   ],
   "source": [
    "X_test = features_test[predictors]\n",
    "y_test = features_test[\"outcome\"]\n",
    "\n",
    "# 2. predict values and get the binary output\n",
    "predictions = res.predict(X_test)\n",
    "binaries = (predictions.values >= 0.5).astype(float)\n",
    "accuracy_score(y_test, binaries)"
   ]
  },
  {
   "cell_type": "code",
   "execution_count": 20,
   "metadata": {},
   "outputs": [
    {
     "data": {
      "text/plain": [
       "0.7784090909090909"
      ]
     },
     "execution_count": 20,
     "metadata": {},
     "output_type": "execute_result"
    }
   ],
   "source": [
    "clf = DummyClassifier(strategy='stratified')\n",
    "X_train = features[predictors]\n",
    "y_train = features[\"outcome\"]\n",
    "\n",
    "clf.fit(X_train, y_train)\n",
    "clf.score(X_test, y_test)"
   ]
  },
  {
   "cell_type": "code",
   "execution_count": 21,
   "metadata": {},
   "outputs": [
    {
     "data": {
      "text/plain": [
       "array([[148,   6],\n",
       "       [ 21,   1]])"
      ]
     },
     "execution_count": 21,
     "metadata": {},
     "output_type": "execute_result"
    }
   ],
   "source": [
    "m = confusion_matrix(y_test, binaries)\n",
    "m"
   ]
  },
  {
   "cell_type": "markdown",
   "metadata": {},
   "source": [
    "What do we observe ? The predictor has an overall accuracy of 85%: **this is better than random guess, however it is less than a most-frequent choice** (which guess based on the class distribution, and hence is garuanted to have a much higher accuracy since there is a strong class imbalance). Again, because of the **strong class imbalance**, the accuracy isn't enough to determine, but we can look at the confusion matrix. Again, for this matrix, 'Betrayer' is marked as 'Negatif'.\n",
    "- The second column of $C$ is same as before, revealing that accuracy of detecting betrayer is really low. Only one betrayal is detected. \n",
    "- The first column shows that $148 / 154 \\approx 0.96 \\%$ of non betrayals seasons are classifed as so. We notice that 6 seasons that are non betrayals are detected as betrayals.\n",
    "\n",
    "Like in what the paper did, we can ask ourself this question: **is it the case because some betrayals are detected too early ?**. Actually, looking at the data we realize that it is not the case.\n",
    "\n",
    "After looking at the prediction results, we notice that the for a few games, many betrayals are detected: **how can we enforce that there's only one betrayal per game ?**\n",
    "\n",
    "Other things that we can do include\n",
    "- try to design new features\n",
    "- select features using cross-validation\n"
   ]
  },
  {
   "cell_type": "code",
   "execution_count": null,
   "metadata": {},
   "outputs": [],
   "source": []
  }
 ],
 "metadata": {
  "kernelspec": {
   "display_name": "Python 3",
   "language": "python",
   "name": "python3"
  },
  "language_info": {
   "codemirror_mode": {
    "name": "ipython",
    "version": 3
   },
   "file_extension": ".py",
   "mimetype": "text/x-python",
   "name": "python",
   "nbconvert_exporter": "python",
   "pygments_lexer": "ipython3",
   "version": "3.8.3"
  }
 },
 "nbformat": 4,
 "nbformat_minor": 4
}
