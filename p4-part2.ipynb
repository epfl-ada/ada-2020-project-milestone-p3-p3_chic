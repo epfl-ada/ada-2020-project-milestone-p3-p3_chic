{
 "cells": [
  {
   "cell_type": "code",
   "execution_count": 1,
   "metadata": {},
   "outputs": [],
   "source": [
    "import pandas as pd\n",
    "import time\n",
    "from collections import deque\n",
    "import numpy as np\n",
    "pd.options.mode.chained_assignment = None"
   ]
  },
  {
   "cell_type": "code",
   "execution_count": 2,
   "metadata": {},
   "outputs": [],
   "source": [
    "# read the dataframes\n",
    "all_games = pd.read_pickle(\"data/games.pkl\")\n",
    "all_orders = pd.read_pickle(\"data/orders.pkl\")\n",
    "all_players = pd.read_pickle(\"data/players.pkl\")\n",
    "all_turns = pd.read_pickle(\"data/turns.pkl\")\n",
    "all_units = pd.read_pickle(\"data/units.pkl\")\n",
    "\n",
    "# remove duplicates\n",
    "all_units = all_units.drop_duplicates()"
   ]
  },
  {
   "cell_type": "code",
   "execution_count": 25,
   "metadata": {},
   "outputs": [],
   "source": [
    "countries = ['A', 'E', 'F', 'G', 'I', 'R', 'T']\n",
    "pairs = [x+y for x in countries for y in countries if y > x]"
   ]
  },
  {
   "cell_type": "markdown",
   "metadata": {},
   "source": [
    "# What is the effect of betrayal over wining ? \n",
    "\n",
    "We look at the outcome **winning** (binary) considering the treatment which can be \n",
    "- betrayer\n",
    "- betrayed\n",
    "- none, that we call the 'neutrals'\n",
    "\n",
    "The first thing we need is to know when each player 'dies' and who is (are) the winner(s). "
   ]
  },
  {
   "cell_type": "code",
   "execution_count": 70,
   "metadata": {},
   "outputs": [],
   "source": [
    "def get_betrayers_and_betrayed(friendships):\n",
    "    cols = [col for col in friendships.columns if np.count_nonzero(friendships[col] != 0)]\n",
    "    betrayers = []\n",
    "    betrayeds = []\n",
    "    for c in cols: \n",
    "        tmp = friendships[c]\n",
    "        values = tmp[tmp != 0].values\n",
    "        if type(values[-1]) == str: \n",
    "            betrayer = values[-1]\n",
    "            betrayers.append(betrayer)\n",
    "            tmp = list(c)\n",
    "            tmp.remove(betrayer)\n",
    "            betrayeds.append(tmp[0])\n",
    "            \n",
    "    return betrayers, betrayeds"
   ]
  },
  {
   "cell_type": "code",
   "execution_count": 71,
   "metadata": {},
   "outputs": [],
   "source": [
    "def get_winner_country(game_id):\n",
    "    winner = all_players.query(\"game_id == @game_id & won == 1\")\n",
    "    return winner.country.values"
   ]
  },
  {
   "cell_type": "code",
   "execution_count": 72,
   "metadata": {},
   "outputs": [],
   "source": [
    "def get_loosers(winners):\n",
    "    loosers = countries.copy()\n",
    "    for w in winners: loosers.remove(w)\n",
    "    return loosers"
   ]
  },
  {
   "cell_type": "code",
   "execution_count": 77,
   "metadata": {},
   "outputs": [],
   "source": [
    "def get_neutrals(betrayers, betrayeds):\n",
    "    neutrals = countries.copy()\n",
    "    for b in betrayers: \n",
    "        if b in neutrals: neutrals.remove(b)\n",
    "    for b in betrayeds: \n",
    "        if b in neutrals: neutrals.remove(b)\n",
    "    return neutrals"
   ]
  },
  {
   "cell_type": "code",
   "execution_count": 96,
   "metadata": {},
   "outputs": [
    {
     "name": "stdout",
     "output_type": "stream",
     "text": [
      "\n",
      "Game 0\n",
      "Winners:  ['T']  and Loosers ['A', 'E', 'F', 'G', 'I', 'R']\n",
      "Betrayers:  ['R']\n",
      "\n",
      "Game 1\n",
      "Winners:  ['A']  and Loosers ['E', 'F', 'G', 'I', 'R', 'T']\n",
      "Betrayers:  ['A']\n",
      "\n",
      "Game 2\n",
      "Winners:  ['T']  and Loosers ['A', 'E', 'F', 'G', 'I', 'R']\n",
      "Betrayers:  []\n",
      "\n",
      "Game 3\n",
      "Winners:  ['E']  and Loosers ['A', 'F', 'G', 'I', 'R', 'T']\n",
      "Betrayers:  []\n",
      "\n",
      "Game 4\n",
      "Winners:  ['R']  and Loosers ['A', 'E', 'F', 'G', 'I', 'T']\n",
      "Betrayers:  ['R']\n",
      "\n",
      "Game 5\n",
      "Winners:  ['T']  and Loosers ['A', 'E', 'F', 'G', 'I', 'R']\n",
      "Betrayers:  []\n",
      "\n",
      "Game 6\n",
      "Winners:  ['G']  and Loosers ['A', 'E', 'F', 'I', 'R', 'T']\n",
      "Betrayers:  []\n",
      "\n",
      "Game 7\n",
      "Winners:  ['F' 'R']  and Loosers ['A', 'E', 'G', 'I', 'T']\n",
      "Betrayers:  []\n",
      "\n",
      "Game 8\n",
      "Winners:  ['I' 'T']  and Loosers ['A', 'E', 'F', 'G', 'R']\n",
      "Betrayers:  []\n",
      "\n",
      "Game 9\n",
      "Winners:  ['T']  and Loosers ['A', 'E', 'F', 'G', 'I', 'R']\n",
      "Betrayers:  ['T']\n",
      "\n",
      "Game 10\n",
      "Winners:  ['T']  and Loosers ['A', 'E', 'F', 'G', 'I', 'R']\n",
      "Betrayers:  ['G']\n",
      "\n",
      "Game 11\n",
      "Winners:  ['R']  and Loosers ['A', 'E', 'F', 'G', 'I', 'T']\n",
      "Betrayers:  []\n",
      "\n",
      "Game 12\n",
      "Winners:  ['G']  and Loosers ['A', 'E', 'F', 'I', 'R', 'T']\n",
      "Betrayers:  ['I', 'G']\n",
      "\n",
      "Game 13\n",
      "Winners:  ['A']  and Loosers ['E', 'F', 'G', 'I', 'R', 'T']\n",
      "Betrayers:  ['E']\n",
      "\n",
      "Game 14\n",
      "Winners:  ['G']  and Loosers ['A', 'E', 'F', 'I', 'R', 'T']\n",
      "Betrayers:  []\n",
      "\n",
      "Game 15\n",
      "Winners:  ['G']  and Loosers ['A', 'E', 'F', 'I', 'R', 'T']\n",
      "Betrayers:  []\n",
      "\n",
      "Game 16\n",
      "Winners:  ['E']  and Loosers ['A', 'F', 'G', 'I', 'R', 'T']\n",
      "Betrayers:  []\n",
      "\n",
      "Game 17\n",
      "Winners:  ['E']  and Loosers ['A', 'F', 'G', 'I', 'R', 'T']\n",
      "Betrayers:  ['T']\n",
      "\n",
      "Game 18\n",
      "Winners:  ['E']  and Loosers ['A', 'F', 'G', 'I', 'R', 'T']\n",
      "Betrayers:  ['F']\n",
      "\n",
      "Game 19\n",
      "Winners:  ['T']  and Loosers ['A', 'E', 'F', 'G', 'I', 'R']\n",
      "Betrayers:  []\n",
      "\n",
      "Game 20\n",
      "Winners:  ['E']  and Loosers ['A', 'F', 'G', 'I', 'R', 'T']\n",
      "Betrayers:  ['E']\n",
      "\n",
      "Game 21\n",
      "Winners:  ['A']  and Loosers ['E', 'F', 'G', 'I', 'R', 'T']\n",
      "Betrayers:  []\n",
      "\n",
      "Game 22\n",
      "Winners:  ['T']  and Loosers ['A', 'E', 'F', 'G', 'I', 'R']\n",
      "Betrayers:  []\n",
      "\n",
      "Game 23\n",
      "Winners:  ['A']  and Loosers ['E', 'F', 'G', 'I', 'R', 'T']\n",
      "Betrayers:  []\n",
      "\n",
      "Game 24\n",
      "Winners:  ['R']  and Loosers ['A', 'E', 'F', 'G', 'I', 'T']\n",
      "Betrayers:  []\n",
      "\n",
      "Game 25\n",
      "Winners:  ['F']  and Loosers ['A', 'E', 'G', 'I', 'R', 'T']\n",
      "Betrayers:  []\n",
      "\n",
      "Game 26\n",
      "Winners:  ['I']  and Loosers ['A', 'E', 'F', 'G', 'R', 'T']\n",
      "Betrayers:  []\n",
      "\n",
      "Game 27\n",
      "Winners:  ['T']  and Loosers ['A', 'E', 'F', 'G', 'I', 'R']\n",
      "Betrayers:  []\n",
      "\n",
      "Game 28\n",
      "Winners:  ['F']  and Loosers ['A', 'E', 'G', 'I', 'R', 'T']\n",
      "Betrayers:  []\n",
      "\n",
      "Game 29\n",
      "Winners:  ['F']  and Loosers ['A', 'E', 'G', 'I', 'R', 'T']\n",
      "Betrayers:  ['I']\n"
     ]
    }
   ],
   "source": [
    "# load the data to analyse\n",
    "games_id = np.load(\"data/subset2/games_id.npy\")\n",
    "all_friendships = np.load(\"data/subset2/friendships.npy\", allow_pickle=True)\n",
    "\n",
    "\n",
    "winners_betrayer = 0\n",
    "loosers_betrayer = 0\n",
    "loosers_betrayed = 0 \n",
    "N = len(games_id)\n",
    "for i, game_id in enumerate(games_id[:30]):\n",
    "    \n",
    "    # reconstruct the obtained data\n",
    "    data = all_friendships[i]\n",
    "    years = np.arange(1901, 1901 + data.shape[0] * 0.5, 0.5)\n",
    "    friendships = pd.DataFrame(data = all_friendships[i], columns = pairs, index = years)\n",
    "    \n",
    "    # get labels\n",
    "    winners = get_winner_country(game_id)\n",
    "    loosers = get_loosers(winners)\n",
    "    betrayers, betrayeds = get_betrayers_and_betrayed(friendships)\n",
    "    neutrals = get_neutrals(betrayers, betrayeds)\n",
    "    \n",
    "    \n",
    "    print(\"\\nGame\",i)\n",
    "    print(\"Winners: \", winners, \" and Loosers\", loosers)\n",
    "    print(\"Betrayers: \", betrayers)\n",
    "    \n",
    "    for winner in winners: \n",
    "        if winner in betrayers: winners_betrayer += 1\n",
    "    for looser in loosers: \n",
    "        if looser in betrayers: loosers_betrayer += 1"
   ]
  },
  {
   "cell_type": "code",
   "execution_count": 97,
   "metadata": {},
   "outputs": [
    {
     "name": "stdout",
     "output_type": "stream",
     "text": [
      "N =  50\n",
      "winners betrayer 5\n",
      "loosers_betrayer 7\n"
     ]
    }
   ],
   "source": [
    "print(\"N = \", N)\n",
    "print(\"winners betrayer\", winners_betrayer)\n",
    "print(\"loosers_betrayer\", loosers_betrayer)"
   ]
  },
  {
   "cell_type": "code",
   "execution_count": null,
   "metadata": {},
   "outputs": [],
   "source": []
  }
 ],
 "metadata": {
  "kernelspec": {
   "display_name": "Python 3",
   "language": "python",
   "name": "python3"
  },
  "language_info": {
   "codemirror_mode": {
    "name": "ipython",
    "version": 3
   },
   "file_extension": ".py",
   "mimetype": "text/x-python",
   "name": "python",
   "nbconvert_exporter": "python",
   "pygments_lexer": "ipython3",
   "version": "3.8.3"
  }
 },
 "nbformat": 4,
 "nbformat_minor": 4
}
