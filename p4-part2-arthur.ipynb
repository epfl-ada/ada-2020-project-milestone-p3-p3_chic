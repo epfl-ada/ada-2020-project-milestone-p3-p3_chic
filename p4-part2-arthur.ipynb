{
 "cells": [
  {
   "cell_type": "markdown",
   "metadata": {},
   "source": [
    "# ADA Project\n",
    "\n",
    "Now that we understand the dataset, we are going to try to answer our research questions in this notebook."
   ]
  },
  {
   "cell_type": "code",
   "execution_count": 2,
   "metadata": {},
   "outputs": [],
   "source": [
    "import pandas as pd\n",
    "import time\n",
    "from collections import deque\n",
    "import numpy as np\n",
    "pd.options.mode.chained_assignment = None"
   ]
  },
  {
   "cell_type": "code",
   "execution_count": 3,
   "metadata": {},
   "outputs": [],
   "source": [
    "# read the dataframes\n",
    "all_games = pd.read_pickle(\"data/games.pkl\")\n",
    "all_orders = pd.read_pickle(\"data/orders.pkl\")\n",
    "all_players = pd.read_pickle(\"data/players.pkl\")\n",
    "all_turns = pd.read_pickle(\"data/turns.pkl\")\n",
    "all_units = pd.read_pickle(\"data/units.pkl\")\n",
    "\n",
    "# remove duplicates\n",
    "all_units = all_units.drop_duplicates()"
   ]
  },
  {
   "cell_type": "markdown",
   "metadata": {},
   "source": [
    "# Descriptive statistics\n",
    "\n",
    "We look at the **outcome** (binary) considering the **treatment**, which can be:\n",
    "- engaged: player who was engaged in a friendship\n",
    "- single: player who was not engaged in a friendship\n",
    "\n",
    "And for engaged player, there is an aditional treatment: \n",
    "- betrayer: player who betrayed another one\n",
    "- betrayed: player who ended up betrayed by another\n",
    "- neutral: player who was not engaged in a *broken* friendship\n",
    "\n",
    "In order to answer this question, let's define a few functions that we will use in the later analysis."
   ]
  },
  {
   "cell_type": "code",
   "execution_count": 4,
   "metadata": {},
   "outputs": [],
   "source": [
    "countries = ['A', 'E', 'F', 'G', 'I', 'R', 'T']\n",
    "pairs = [x+y for x in countries for y in countries if y > x]"
   ]
  },
  {
   "cell_type": "code",
   "execution_count": 5,
   "metadata": {},
   "outputs": [],
   "source": [
    "def get_engageds(friendships):\n",
    "    \"\"\"Returns the players engaged in a friendship\"\"\"\n",
    "    cols = [col for col in friendships.columns if np.count_nonzero(friendships[col] != 0)]\n",
    "    return list(set(''.join(cols)))\n",
    "\n",
    "def get_singles(engageds):\n",
    "    \"\"\"Returns players not engaged in a friendship\"\"\"\n",
    "    singles = countries.copy()\n",
    "    for engaged in engageds:\n",
    "        singles.remove(engaged)\n",
    "    return singles"
   ]
  },
  {
   "cell_type": "code",
   "execution_count": 6,
   "metadata": {},
   "outputs": [],
   "source": [
    "def get_betrayers_and_betrayed(friendships):\n",
    "    \"\"\"Given the Friendships dataframe as defined in our analysis, returns all the players who commited \n",
    "    betrayals and all players who ended up betrayed\"\"\"\n",
    "    cols = [col for col in friendships.columns if np.count_nonzero(friendships[col] != 0)]\n",
    "    betrayers = []\n",
    "    betrayeds = []\n",
    "    for c in cols: \n",
    "        tmp = friendships[c]\n",
    "        values = tmp[tmp != 0].values\n",
    "        if type(values[-1]) == str: \n",
    "            betrayer = values[-1]\n",
    "            betrayers.append(betrayer)\n",
    "            tmp = list(c)\n",
    "            tmp.remove(betrayer)\n",
    "            betrayeds.append(tmp[0])\n",
    "            \n",
    "    return betrayers, betrayeds\n",
    "\n",
    "def get_neutrals(betrayers, betrayeds):\n",
    "    \"\"\"Given betrayers and betrayeds players of a game, returns the list of players\n",
    "    who were not involved in a broken friendship\n",
    "    \n",
    "    Required: player must be 'engaged'\n",
    "    \"\"\"\n",
    "    neutrals = countries.copy()\n",
    "    for b in betrayers: \n",
    "        if b in neutrals: neutrals.remove(b)\n",
    "    for b in betrayeds: \n",
    "        if b in neutrals: neutrals.remove(b)\n",
    "    return neutrals"
   ]
  },
  {
   "cell_type": "code",
   "execution_count": 7,
   "metadata": {},
   "outputs": [],
   "source": [
    "def get_winners(game_id):\n",
    "    winner = all_players.query(\"game_id == @game_id & won == 1\")\n",
    "    return winner.country.values\n",
    "\n",
    "def get_losers(winners):\n",
    "    loosers = countries.copy()\n",
    "    for w in winners: loosers.remove(w)\n",
    "    return loosers"
   ]
  },
  {
   "cell_type": "code",
   "execution_count": 8,
   "metadata": {},
   "outputs": [],
   "source": [
    "# load the data to analyse\n",
    "games_id = np.load(\"data/subset_T500_N1/games_id.npy\")\n",
    "all_friendships = np.load(\"data/subset_T500_N1/friendships.npy\", allow_pickle=True)\n",
    "verbose = False\n",
    "\n",
    "data_overall = np.zeros(shape = (2,2))\n",
    "data_engaged = np.zeros(shape = (3,2))\n",
    "\n",
    "treatments_overall = [\"single\", \"engaged\"]\n",
    "treatments_engaged = [\"betrayer\", \"betrayed\", \"neutral\"]\n",
    "outcomes = [\"winner\", \"loser\"]\n",
    "\n",
    "stats_overall = pd.DataFrame(data_overall, index = treatments_overall, columns = outcomes )\n",
    "stats_engageds = pd.DataFrame(data_engaged, index = treatments_engaged, columns = outcomes )\n",
    "\n",
    "N = len(games_id)\n",
    "for i, game_id in enumerate(games_id):\n",
    "    # reconstruct the obtained data\n",
    "    data = all_friendships[i]\n",
    "    years = np.arange(1901, 1901 + data.shape[0] * 0.5, 0.5)\n",
    "    friendships = pd.DataFrame(data = all_friendships[i], columns = pairs, index = years)\n",
    "    \n",
    "    # get outcomes\n",
    "    winners = get_winners(game_id)\n",
    "    losers = get_losers(winners)\n",
    "    \n",
    "    # get treatment 1 \n",
    "    engageds = get_engageds(friendships)\n",
    "    singles = get_singles(engageds)\n",
    "    \n",
    "    # get treatment 2\n",
    "    betrayers, betrayeds = get_betrayers_and_betrayed(friendships)\n",
    "    neutrals = get_neutrals(betrayers, betrayeds)\n",
    "    \n",
    "    # overal statistics\n",
    "    for w in winners:\n",
    "        if w in singles: stats_overall.loc[\"single\", \"winner\"] += 1\n",
    "        if w in engageds: stats_overall.loc[\"engaged\", \"winner\"] += 1\n",
    "    for l in losers:\n",
    "        if l in singles: stats_overall.loc[\"single\", \"loser\"] += 1\n",
    "        if l in engageds: stats_overall.loc[\"engaged\", \"loser\"] += 1\n",
    "    \n",
    "    # statistics about betrayers: \n",
    "    for winner in winners: \n",
    "        if winner in engageds: \n",
    "            if winner in betrayers: stats_engageds.loc[\"betrayer\", \"winner\"] += 1\n",
    "            if winner in betrayeds: stats_engageds.loc[\"betrayed\", \"winner\"] += 1\n",
    "            if winner in neutrals: stats_engageds.loc[\"neutral\", \"winner\"] += 1\n",
    "    for loser in losers: \n",
    "        if winner in engageds:\n",
    "            if loser in betrayers: stats_engageds.loc[\"betrayer\", \"loser\"] += 1\n",
    "            if loser in betrayeds: stats_engageds.loc[\"betrayed\", \"loser\"] += 1\n",
    "            if loser in neutrals: stats_engageds.loc[\"neutral\", \"loser\"] += 1\n",
    "            \n",
    "    if verbose:\n",
    "        print(\"\\nGame\",i)\n",
    "        print(\"Winners: \", winners, \" and Losers\", losers)\n",
    "        print(\"Betrayers: \", betrayers, \" and Betrayed\", betrayeds)\n",
    "        print(\"Neutrals: \", neutrals)\n",
    "\n"
   ]
  },
  {
   "cell_type": "code",
   "execution_count": 9,
   "metadata": {},
   "outputs": [
    {
     "name": "stdout",
     "output_type": "stream",
     "text": [
      "Statistics over all dataset\n"
     ]
    },
    {
     "data": {
      "text/html": [
       "<div>\n",
       "<style scoped>\n",
       "    .dataframe tbody tr th:only-of-type {\n",
       "        vertical-align: middle;\n",
       "    }\n",
       "\n",
       "    .dataframe tbody tr th {\n",
       "        vertical-align: top;\n",
       "    }\n",
       "\n",
       "    .dataframe thead th {\n",
       "        text-align: right;\n",
       "    }\n",
       "</style>\n",
       "<table border=\"1\" class=\"dataframe\">\n",
       "  <thead>\n",
       "    <tr style=\"text-align: right;\">\n",
       "      <th></th>\n",
       "      <th>winner</th>\n",
       "      <th>loser</th>\n",
       "      <th>win_ratio</th>\n",
       "    </tr>\n",
       "  </thead>\n",
       "  <tbody>\n",
       "    <tr>\n",
       "      <th>single</th>\n",
       "      <td>186.0</td>\n",
       "      <td>1947.0</td>\n",
       "      <td>0.087201</td>\n",
       "    </tr>\n",
       "    <tr>\n",
       "      <th>engaged</th>\n",
       "      <td>371.0</td>\n",
       "      <td>996.0</td>\n",
       "      <td>0.271397</td>\n",
       "    </tr>\n",
       "  </tbody>\n",
       "</table>\n",
       "</div>"
      ],
      "text/plain": [
       "         winner   loser  win_ratio\n",
       "single    186.0  1947.0   0.087201\n",
       "engaged   371.0   996.0   0.271397"
      ]
     },
     "execution_count": 9,
     "metadata": {},
     "output_type": "execute_result"
    }
   ],
   "source": [
    "win_ratio = stats_overall.winner / (stats_overall.loser + stats_overall.winner)\n",
    "stats_overall[\"win_ratio\"] = win_ratio\n",
    "print(\"Statistics over all dataset\")\n",
    "stats_overall"
   ]
  },
  {
   "cell_type": "code",
   "execution_count": 10,
   "metadata": {},
   "outputs": [
    {
     "name": "stdout",
     "output_type": "stream",
     "text": [
      "Statistics over players engaged in a friendship\n"
     ]
    },
    {
     "data": {
      "text/html": [
       "<div>\n",
       "<style scoped>\n",
       "    .dataframe tbody tr th:only-of-type {\n",
       "        vertical-align: middle;\n",
       "    }\n",
       "\n",
       "    .dataframe tbody tr th {\n",
       "        vertical-align: top;\n",
       "    }\n",
       "\n",
       "    .dataframe thead th {\n",
       "        text-align: right;\n",
       "    }\n",
       "</style>\n",
       "<table border=\"1\" class=\"dataframe\">\n",
       "  <thead>\n",
       "    <tr style=\"text-align: right;\">\n",
       "      <th></th>\n",
       "      <th>winner</th>\n",
       "      <th>loser</th>\n",
       "      <th>win_ratio</th>\n",
       "    </tr>\n",
       "  </thead>\n",
       "  <tbody>\n",
       "    <tr>\n",
       "      <th>betrayer</th>\n",
       "      <td>133.0</td>\n",
       "      <td>126.0</td>\n",
       "      <td>0.513514</td>\n",
       "    </tr>\n",
       "    <tr>\n",
       "      <th>betrayed</th>\n",
       "      <td>70.0</td>\n",
       "      <td>189.0</td>\n",
       "      <td>0.270270</td>\n",
       "    </tr>\n",
       "    <tr>\n",
       "      <th>neutral</th>\n",
       "      <td>171.0</td>\n",
       "      <td>1610.0</td>\n",
       "      <td>0.096013</td>\n",
       "    </tr>\n",
       "  </tbody>\n",
       "</table>\n",
       "</div>"
      ],
      "text/plain": [
       "          winner   loser  win_ratio\n",
       "betrayer   133.0   126.0   0.513514\n",
       "betrayed    70.0   189.0   0.270270\n",
       "neutral    171.0  1610.0   0.096013"
      ]
     },
     "execution_count": 10,
     "metadata": {},
     "output_type": "execute_result"
    }
   ],
   "source": [
    "win_ratio = stats_engageds.winner / (stats_engageds.loser + stats_engageds.winner)\n",
    "stats_engageds[\"win_ratio\"] = win_ratio\n",
    "print(\"Statistics over players engaged in a friendship\")\n",
    "stats_engageds"
   ]
  },
  {
   "cell_type": "markdown",
   "metadata": {},
   "source": [
    "What can we see here ? \n",
    "- among all players that were involved in a broken friendship (either *betrayer* or *betrayed*) the chances of winning go towards the betrayer. Betrayed players have much higher chances of loosing and about 5 times less chances of winning. . .. \n",
    "- the neutral players represents the majority of players, however their chances of winning are not much bigger than the chances of win than betrayed people. \n",
    "\n",
    "These results make us strongly believe that **betrayals strongly influence the outcome of the game**. \n",
    "\n",
    "What can we do next ? \n",
    "\n",
    "- select 250 games with  and without betrayals (and all with friendships), then do a matching based on the games properties, and look at what differs once a betrayal happened for the players who were engaged in a friendship !\n",
    "\n",
    "- quantify agressivity of players towards others, and using the same dataset as before, try to see what happens to a player that was betrayed"
   ]
  },
  {
   "cell_type": "markdown",
   "metadata": {},
   "source": [
    "# Machine Learning Analysis: can we predict betrayals using game features ? \n",
    "\n",
    "We want to perform a logistic regression with our collected features."
   ]
  },
  {
   "cell_type": "code",
   "execution_count": 11,
   "metadata": {},
   "outputs": [
    {
     "data": {
      "text/html": [
       "<div>\n",
       "<style scoped>\n",
       "    .dataframe tbody tr th:only-of-type {\n",
       "        vertical-align: middle;\n",
       "    }\n",
       "\n",
       "    .dataframe tbody tr th {\n",
       "        vertical-align: top;\n",
       "    }\n",
       "\n",
       "    .dataframe thead th {\n",
       "        text-align: right;\n",
       "    }\n",
       "</style>\n",
       "<table border=\"1\" class=\"dataframe\">\n",
       "  <thead>\n",
       "    <tr style=\"text-align: right;\">\n",
       "      <th></th>\n",
       "      <th>game_id</th>\n",
       "      <th>has_betrayal</th>\n",
       "      <th>length</th>\n",
       "      <th>outcome</th>\n",
       "      <th>n_aoh_x</th>\n",
       "      <th>n_aoh_y</th>\n",
       "      <th>n_aos_x</th>\n",
       "      <th>n_aos_y</th>\n",
       "      <th>supports_xy</th>\n",
       "      <th>supports_yx</th>\n",
       "    </tr>\n",
       "  </thead>\n",
       "  <tbody>\n",
       "    <tr>\n",
       "      <th>0</th>\n",
       "      <td>54754.0</td>\n",
       "      <td>True</td>\n",
       "      <td>1.0</td>\n",
       "      <td>0.0</td>\n",
       "      <td>2.0</td>\n",
       "      <td>1.0</td>\n",
       "      <td>0.0</td>\n",
       "      <td>0.0</td>\n",
       "      <td>0.0</td>\n",
       "      <td>1.0</td>\n",
       "    </tr>\n",
       "    <tr>\n",
       "      <th>1</th>\n",
       "      <td>54754.0</td>\n",
       "      <td>True</td>\n",
       "      <td>2.0</td>\n",
       "      <td>0.0</td>\n",
       "      <td>1.0</td>\n",
       "      <td>4.0</td>\n",
       "      <td>0.0</td>\n",
       "      <td>0.0</td>\n",
       "      <td>1.0</td>\n",
       "      <td>1.0</td>\n",
       "    </tr>\n",
       "  </tbody>\n",
       "</table>\n",
       "</div>"
      ],
      "text/plain": [
       "   game_id has_betrayal  length  outcome  n_aoh_x  n_aoh_y  n_aos_x  n_aos_y  \\\n",
       "0  54754.0         True     1.0      0.0      2.0      1.0      0.0      0.0   \n",
       "1  54754.0         True     2.0      0.0      1.0      4.0      0.0      0.0   \n",
       "\n",
       "   supports_xy  supports_yx  \n",
       "0          0.0          1.0  \n",
       "1          1.0          1.0  "
      ]
     },
     "execution_count": 11,
     "metadata": {},
     "output_type": "execute_result"
    }
   ],
   "source": [
    "import statsmodels.formula.api as smf\n",
    "from sklearn.metrics import (confusion_matrix, accuracy_score, plot_confusion_matrix) \n",
    "\n",
    "features = pd.read_pickle(\"data/features_B200_V0_N1/features.pkl\")\n",
    "features.head(2)"
   ]
  },
  {
   "cell_type": "code",
   "execution_count": 12,
   "metadata": {},
   "outputs": [],
   "source": [
    "# 1. Normalisation \n",
    "predictors = [\"length\", \"n_aoh_x\", \"n_aoh_y\",\"n_aos_x\", \"n_aos_y\", \"supports_xy\", \"supports_yx\"]\n",
    "features = features[predictors + [\"outcome\"]]\n",
    "\n",
    "def get_means_and_stds(features, predictors):\n",
    "    means = []\n",
    "    stds = []\n",
    "    for p in predictors: \n",
    "        means.append(features[p].mean())\n",
    "        stds.append(features[p].std())\n",
    "    return means, stds\n",
    "\n",
    "def normalise_preds(features, predictors, means, stds):\n",
    "    for i, p in enumerate(predictors): \n",
    "        features[p] = (features[p] - means[i]) / stds[i]\n",
    "        \n",
    "        \n",
    "means, stds = get_means_and_stds(features, predictors)\n",
    "normalise_preds(features, predictors, means, stds)"
   ]
  },
  {
   "cell_type": "code",
   "execution_count": 13,
   "metadata": {},
   "outputs": [
    {
     "data": {
      "text/plain": [
       "'outcome ~ length + n_aoh_x + n_aoh_y + n_aos_x + n_aos_y + supports_xy + supports_yx'"
      ]
     },
     "execution_count": 13,
     "metadata": {},
     "output_type": "execute_result"
    }
   ],
   "source": [
    "# 2. Create the regression formula\n",
    "formula = \"outcome ~ \" + ' + '.join(predictors)\n",
    "formula"
   ]
  },
  {
   "cell_type": "code",
   "execution_count": 14,
   "metadata": {},
   "outputs": [
    {
     "name": "stdout",
     "output_type": "stream",
     "text": [
      "Optimization terminated successfully.\n",
      "         Current function value: 0.370756\n",
      "         Iterations 6\n",
      "                           Logit Regression Results                           \n",
      "==============================================================================\n",
      "Dep. Variable:                outcome   No. Observations:                 1580\n",
      "Model:                          Logit   Df Residuals:                     1572\n",
      "Method:                           MLE   Df Model:                            7\n",
      "Date:                Thu, 17 Dec 2020   Pseudo R-squ.:                 0.07336\n",
      "Time:                        13:14:50   Log-Likelihood:                -585.79\n",
      "converged:                       True   LL-Null:                       -632.17\n",
      "Covariance Type:            nonrobust   LLR p-value:                 3.359e-17\n",
      "===============================================================================\n",
      "                  coef    std err          z      P>|z|      [0.025      0.975]\n",
      "-------------------------------------------------------------------------------\n",
      "Intercept      -2.0005      0.083    -24.208      0.000      -2.162      -1.839\n",
      "length          0.5082      0.068      7.431      0.000       0.374       0.642\n",
      "n_aoh_x         0.0500      0.075      0.662      0.508      -0.098       0.198\n",
      "n_aoh_y         0.1750      0.073      2.401      0.016       0.032       0.318\n",
      "n_aos_x         0.1160      0.067      1.738      0.082      -0.015       0.247\n",
      "n_aos_y        -0.1092      0.083     -1.317      0.188      -0.272       0.053\n",
      "supports_xy     0.3878      0.074      5.247      0.000       0.243       0.533\n",
      "supports_yx     0.2970      0.077      3.876      0.000       0.147       0.447\n",
      "===============================================================================\n"
     ]
    }
   ],
   "source": [
    "# 3. Make the regression\n",
    "mod = smf.logit(formula = formula, data = features)\n",
    "res = mod.fit()\n",
    "print(res.summary())"
   ]
  },
  {
   "cell_type": "markdown",
   "metadata": {},
   "source": [
    "## Classification Assessment\n",
    "\n",
    "Now that we have fitted a regression model, it is quite hard to interpret the summary. However, we can use additional metrics to see if our model is doing anything like we want to it.\n",
    "\n",
    "It was for this purpose that we generated another set of points: the testing dataset.\n",
    "\n",
    "Let's also focus our attention on the seasons where a real betrayal happened, and let's see if this classifier worked properly. It is for this reason that we test the results on the seasons of the testing set with betrayal."
   ]
  },
  {
   "cell_type": "code",
   "execution_count": 15,
   "metadata": {},
   "outputs": [
    {
     "data": {
      "text/plain": [
       "array([0., 0., 0., 0., 0., 0., 0., 0., 0., 0., 0., 0., 0., 0., 0., 0., 0.,\n",
       "       0., 0., 0., 0., 1.])"
      ]
     },
     "execution_count": 15,
     "metadata": {},
     "output_type": "execute_result"
    }
   ],
   "source": [
    "# 1. read the test dataset\n",
    "features_test = pd.read_pickle(\"data/features_B20_V0_N1/features.pkl\")\n",
    "normalise_preds(features_test, predictors, means, stds)\n",
    "\n",
    "X_test = features_test.query(\"outcome == 1\")[predictors]\n",
    "y_test = features_test.query(\"outcome == 1\")[\"outcome\"]\n",
    "\n",
    "# 2. predict values and get the binary output\n",
    "predictions = res.predict(X_test)\n",
    "binaries = predictions.values.round()\n",
    "binaries"
   ]
  },
  {
   "cell_type": "markdown",
   "metadata": {},
   "source": [
    "The first metric we can look at is the [accuracy score](https://scikit-learn.org/stable/modules/model_evaluation.html#accuracy-score)."
   ]
  },
  {
   "cell_type": "code",
   "execution_count": 16,
   "metadata": {},
   "outputs": [
    {
     "data": {
      "text/plain": [
       "0.045454545454545456"
      ]
     },
     "execution_count": 16,
     "metadata": {},
     "output_type": "execute_result"
    }
   ],
   "source": [
    "# 2. accuracy score\n",
    "accuracy_score(y_test, binaries)"
   ]
  },
  {
   "cell_type": "markdown",
   "metadata": {},
   "source": [
    "We see that we obtain about 45% of accuracy. Is this good ? Well, it is possible to compare this result with a **dummy estimator** to see if our models performs better than stupid ones. Here, there are several possibilities.\n",
    "- The 'dumbest' estimator will perform better than this one. Indeed, guessing uniformly between either zero or one will give a 50% chance level to detect betrayals, when only trying to detect betrayals. So when looking dumbly at this task, it looks like what we have isn't good. However, such a result isn't so useful: indeed, there is a strong imbalance in the class labels and if a classifier says that only 50% of seasons are betrayal, it's a really bad. The reason it performs better here is because we selected only seasons where a betrayal happened.\n",
    "- Another 'dummy' estimator is a stratified one: it generates random predictions by respecting the training set class distribution. We using this one, we obtain a classification score of 10%, which is now a lot less than what was obtained with our predictor."
   ]
  },
  {
   "cell_type": "code",
   "execution_count": 17,
   "metadata": {},
   "outputs": [
    {
     "data": {
      "text/plain": [
       "0.22727272727272727"
      ]
     },
     "execution_count": 17,
     "metadata": {},
     "output_type": "execute_result"
    }
   ],
   "source": [
    "# 3. dummy estimator for sanity check\n",
    "from sklearn.dummy import DummyClassifier\n",
    "clf = DummyClassifier(strategy='stratified', random_state=0)\n",
    "X_train = features[predictors]\n",
    "y_train = features[\"outcome\"]\n",
    "\n",
    "clf.fit(X_train, y_train)\n",
    "clf.score(X_test, y_test)"
   ]
  },
  {
   "cell_type": "markdown",
   "metadata": {},
   "source": [
    "We can try to understand more using the confusion matrix. Here, betrayals are marked as negatives. The rows represent the actual classes (first row means no betrayal, second row means betrayal) and the columns represent the predicted class (first row means predicted as no betrayals, second row means predicted as betrayal)."
   ]
  },
  {
   "cell_type": "code",
   "execution_count": 18,
   "metadata": {},
   "outputs": [
    {
     "data": {
      "text/plain": [
       "array([[ 0,  0],\n",
       "       [21,  1]])"
      ]
     },
     "execution_count": 18,
     "metadata": {},
     "output_type": "execute_result"
    }
   ],
   "source": [
    "m = confusion_matrix(y_test, binaries)\n",
    "m"
   ]
  },
  {
   "cell_type": "markdown",
   "metadata": {},
   "source": [
    "With our predictor, about 45% of betrayals are detected as so. One could think that this information is not enough for proclaming \"good classifier\", because what matters isn't only the 'True Betrayer' but also what happens to the seasons leading to a betrayer (i.e., what about 'False Betrayal' and 'True No Betrayal'. To investigate this result, one can run our previous analysis again without looking only at seasons where betrayal happened."
   ]
  },
  {
   "cell_type": "code",
   "execution_count": 19,
   "metadata": {},
   "outputs": [
    {
     "data": {
      "text/plain": [
       "0.8465909090909091"
      ]
     },
     "execution_count": 19,
     "metadata": {},
     "output_type": "execute_result"
    }
   ],
   "source": [
    "X_test = features_test[predictors]\n",
    "y_test = features_test[\"outcome\"]\n",
    "\n",
    "# 2. predict values and get the binary output\n",
    "predictions = res.predict(X_test)\n",
    "binaries = (predictions.values >= 0.5).astype(float)\n",
    "accuracy_score(y_test, binaries)"
   ]
  },
  {
   "cell_type": "code",
   "execution_count": 20,
   "metadata": {},
   "outputs": [
    {
     "data": {
      "text/plain": [
       "0.7784090909090909"
      ]
     },
     "execution_count": 20,
     "metadata": {},
     "output_type": "execute_result"
    }
   ],
   "source": [
    "clf = DummyClassifier(strategy='stratified')\n",
    "X_train = features[predictors]\n",
    "y_train = features[\"outcome\"]\n",
    "\n",
    "clf.fit(X_train, y_train)\n",
    "clf.score(X_test, y_test)"
   ]
  },
  {
   "cell_type": "code",
   "execution_count": 21,
   "metadata": {},
   "outputs": [
    {
     "data": {
      "text/plain": [
       "array([[148,   6],\n",
       "       [ 21,   1]])"
      ]
     },
     "execution_count": 21,
     "metadata": {},
     "output_type": "execute_result"
    }
   ],
   "source": [
    "m = confusion_matrix(y_test, binaries)\n",
    "m"
   ]
  },
  {
   "cell_type": "markdown",
   "metadata": {},
   "source": [
    "What do we observe ? The predictor has an overall accuracy of 85%: **this is better than random guess, however it is less than a most-frequent choice** (which guess based on the class distribution, and hence is garuanted to have a much higher accuracy since there is a strong class imbalance). Again, because of the **strong class imbalance**, the accuracy isn't enough to determine, but we can look at the confusion matrix. Again, for this matrix, 'Betrayer' is marked as 'Negatif'.\n",
    "- The second column of $C$ is same as before, revealing that accuracy of detecting betrayer is really low. Only one betrayal is detected. \n",
    "- The first column shows that $148 / 154 \\approx 0.96 \\%$ of non betrayals seasons are classifed as so. We notice that 6 seasons that are non betrayals are detected as betrayals.\n",
    "\n",
    "Like in what the paper did, we can ask ourself this question: **is it the case because some betrayals are detected too early ?**. Actually, looking at the data we realize that it is not the case.\n",
    "\n",
    "After looking at the prediction results, we notice that the for a few games, many betrayals are detected: **how can we enforce that there's only one betrayal per game ?**\n",
    "\n",
    "Other things that we can do include\n",
    "- try to design new features\n",
    "- select features using cross-validation\n"
   ]
  },
  {
   "cell_type": "markdown",
   "metadata": {},
   "source": [
    "# PLOT ARTHUR"
   ]
  },
  {
   "cell_type": "markdown",
   "metadata": {},
   "source": [
    "## Difference between N1 and N2 for betrayals and for friendships counts\n",
    "\n"
   ]
  },
  {
   "cell_type": "code",
   "execution_count": 23,
   "metadata": {},
   "outputs": [],
   "source": [
    "# 1. get the data\n",
    "# games_id_N1 = np.load(\"data/subset_T500_N1/games_id.npy\")\n",
    "all_friendships_N1 = np.load(\"data/subset_T500_N1/friendships.npy\", allow_pickle=True)\n",
    "# games_id_N2 = np.load(\"data/subset_T500_N2/games_id.npy\")\n",
    "all_friendships_N2 = np.load(\"data/subset_T500_N2/friendships.npy\", allow_pickle=True)"
   ]
  },
  {
   "cell_type": "code",
   "execution_count": 112,
   "metadata": {},
   "outputs": [
    {
     "data": {
      "text/html": [
       "<div>\n",
       "<style scoped>\n",
       "    .dataframe tbody tr th:only-of-type {\n",
       "        vertical-align: middle;\n",
       "    }\n",
       "\n",
       "    .dataframe tbody tr th {\n",
       "        vertical-align: top;\n",
       "    }\n",
       "\n",
       "    .dataframe thead th {\n",
       "        text-align: right;\n",
       "    }\n",
       "</style>\n",
       "<table border=\"1\" class=\"dataframe\">\n",
       "  <thead>\n",
       "    <tr style=\"text-align: right;\">\n",
       "      <th></th>\n",
       "      <th>N</th>\n",
       "      <th>type</th>\n",
       "      <th>number</th>\n",
       "    </tr>\n",
       "  </thead>\n",
       "  <tbody>\n",
       "    <tr>\n",
       "      <th>0</th>\n",
       "      <td>1</td>\n",
       "      <td>friendships</td>\n",
       "      <td>1.0</td>\n",
       "    </tr>\n",
       "    <tr>\n",
       "      <th>1</th>\n",
       "      <td>1</td>\n",
       "      <td>betrayals</td>\n",
       "      <td>1.0</td>\n",
       "    </tr>\n",
       "    <tr>\n",
       "      <th>2</th>\n",
       "      <td>2</td>\n",
       "      <td>friendships</td>\n",
       "      <td>1.0</td>\n",
       "    </tr>\n",
       "    <tr>\n",
       "      <th>3</th>\n",
       "      <td>2</td>\n",
       "      <td>betrayals</td>\n",
       "      <td>1.0</td>\n",
       "    </tr>\n",
       "    <tr>\n",
       "      <th>4</th>\n",
       "      <td>1</td>\n",
       "      <td>friendships</td>\n",
       "      <td>2.0</td>\n",
       "    </tr>\n",
       "    <tr>\n",
       "      <th>...</th>\n",
       "      <td>...</td>\n",
       "      <td>...</td>\n",
       "      <td>...</td>\n",
       "    </tr>\n",
       "    <tr>\n",
       "      <th>1995</th>\n",
       "      <td>2</td>\n",
       "      <td>betrayals</td>\n",
       "      <td>0.0</td>\n",
       "    </tr>\n",
       "    <tr>\n",
       "      <th>1996</th>\n",
       "      <td>1</td>\n",
       "      <td>friendships</td>\n",
       "      <td>2.0</td>\n",
       "    </tr>\n",
       "    <tr>\n",
       "      <th>1997</th>\n",
       "      <td>1</td>\n",
       "      <td>betrayals</td>\n",
       "      <td>1.0</td>\n",
       "    </tr>\n",
       "    <tr>\n",
       "      <th>1998</th>\n",
       "      <td>2</td>\n",
       "      <td>friendships</td>\n",
       "      <td>1.0</td>\n",
       "    </tr>\n",
       "    <tr>\n",
       "      <th>1999</th>\n",
       "      <td>2</td>\n",
       "      <td>betrayals</td>\n",
       "      <td>0.0</td>\n",
       "    </tr>\n",
       "  </tbody>\n",
       "</table>\n",
       "<p>2000 rows × 3 columns</p>\n",
       "</div>"
      ],
      "text/plain": [
       "      N         type  number\n",
       "0     1  friendships     1.0\n",
       "1     1    betrayals     1.0\n",
       "2     2  friendships     1.0\n",
       "3     2    betrayals     1.0\n",
       "4     1  friendships     2.0\n",
       "...  ..          ...     ...\n",
       "1995  2    betrayals     0.0\n",
       "1996  1  friendships     2.0\n",
       "1997  1    betrayals     1.0\n",
       "1998  2  friendships     1.0\n",
       "1999  2    betrayals     0.0\n",
       "\n",
       "[2000 rows x 3 columns]"
      ]
     },
     "execution_count": 112,
     "metadata": {},
     "output_type": "execute_result"
    }
   ],
   "source": [
    "def get_number_betrayals_friendships(friendship): \n",
    "    cols = [col for col in range(21) if np.count_nonzero(friendship[:, col] != 0)]\n",
    "    n_friendships = len(cols)\n",
    "    n_betrayals = np.count_nonzero([type(e) == str for col in friendship for e in col])\n",
    "    return n_friendships, n_betrayals\n",
    "\n",
    "N = 500\n",
    "frame = pd.DataFrame(data = np.zeros(shape = (4*N, 3)), columns = [\"N\", \"type\", \"number\",])\n",
    "\n",
    "for i in range(N):\n",
    "    n_friendships_n1, n_betrayals_n1 = get_number_betrayals_friendships(all_friendships_N1[i])\n",
    "    n_friendships_n2, n_betrayals_n2 = get_number_betrayals_friendships(all_friendships_N2[i])\n",
    "    frame.loc[4*i, :] = [\"1\", \"friendships\", n_friendships_n1]\n",
    "    frame.loc[4*i+1, :] = [\"1\", \"betrayals\", n_betrayals_n1]\n",
    "    frame.loc[4*i+2, :] = [\"2\", \"friendships\", n_friendships_n2]\n",
    "    frame.loc[4*i+3, :] = [\"2\",  \"betrayals\", n_betrayals_n2]\n",
    "    \n",
    "frame"
   ]
  },
  {
   "cell_type": "code",
   "execution_count": 113,
   "metadata": {},
   "outputs": [
    {
     "data": {
      "image/png": "[encoded data removed]",
      "text/plain": [
       "<Figure size 762.375x360 with 2 Axes>"
      ]
     },
     "metadata": {
      "needs_background": "light"
     },
     "output_type": "display_data"
    }
   ],
   "source": [
    "# make required the plot \n",
    "import seaborn as sns\n",
    "\n",
    "sns.displot(data = frame, x = \"number\", hue = \"N\", kind = \"hist\", col = \"type\") ;"
   ]
  },
  {
   "cell_type": "markdown",
   "metadata": {},
   "source": [
    "## Final score plot\n",
    "\n",
    "For each game, we want to have the final score of \n",
    "- the betrayers\n",
    "- the betrayed"
   ]
  },
  {
   "cell_type": "code",
   "execution_count": 168,
   "metadata": {},
   "outputs": [],
   "source": [
    "# load the data to analyse\n",
    "games_id = np.load(\"data/subset_T500_N1/games_id.npy\")\n",
    "all_friendships = np.load(\"data/subset_T500_N1/friendships.npy\", allow_pickle=True)\n",
    "\n",
    "scores = []\n",
    "\n",
    "N = len(games_id)\n",
    "for i in range(500):\n",
    "    game_id = games_id[i]\n",
    "    \n",
    "    # reconstruct the obtained data\n",
    "    data = all_friendships[i]\n",
    "    years = np.arange(1901, 1901 + data.shape[0] * 0.5, 0.5)\n",
    "    friendships = pd.DataFrame(data = all_friendships[i], columns = pairs, index = years)\n",
    "    \n",
    "    # get treatment 1 \n",
    "    engageds = get_engageds(friendships)\n",
    "    singles = get_singles(engageds)\n",
    "    \n",
    "    # get treatment 2\n",
    "    betrayers, betrayeds = get_betrayers_and_betrayed(friendships)\n",
    "    neutrals = get_neutrals(betrayers, betrayeds)\n",
    "    \n",
    "    # compute statistics\n",
    "    for player in betrayers: \n",
    "        scores.append((\"betrayer\", all_players.query(\"game_id == @game_id & country == @player\").num_supply_centers.item()))\n",
    "    for player in betrayeds: \n",
    "        scores.append((\"victim\", all_players.query(\"game_id == @game_id & country == @player\").num_supply_centers.item()))\n",
    "    for player in neutrals: \n",
    "        scores.append((\"neutral\", all_players.query(\"game_id == @game_id & country == @player\").num_supply_centers.item()))\n",
    "        \n",
    "frame = pd.DataFrame(data = scores, columns = [\"status\", \"final_score\"])"
   ]
  },
  {
   "cell_type": "code",
   "execution_count": 169,
   "metadata": {},
   "outputs": [
    {
     "data": {
      "text/plain": [
       "<seaborn.axisgrid.FacetGrid at 0x7f35fa76b100>"
      ]
     },
     "execution_count": 169,
     "metadata": {},
     "output_type": "execute_result"
    },
    {
     "data": {
      "image/png": "[encoded data removed]",
      "text/plain": [
       "<Figure size 360x360 with 1 Axes>"
      ]
     },
     "metadata": {
      "needs_background": "light"
     },
     "output_type": "display_data"
    }
   ],
   "source": [
    "# make a plot using this \n",
    "sns.catplot(data = frame, y = \"final_score\", kind = \"box\", x = \"status\") # , col = \"status\")"
   ]
  },
  {
   "cell_type": "markdown",
   "metadata": {},
   "source": [
    "## Serial betrayers"
   ]
  },
  {
   "cell_type": "code",
   "execution_count": 192,
   "metadata": {},
   "outputs": [
    {
     "name": "stdout",
     "output_type": "stream",
     "text": [
      "Analysis of serial betraying\n",
      "106950 - serial betrayers ['F', 'F'] winners :  ['F']\n",
      "106794 - serial betrayers ['E', 'E'] winners :  ['T']\n",
      "89613 - serial betrayers ['I', 'I'] winners :  ['I' 'A']\n",
      "97720 - serial betrayers ['E', 'E', 'G', 'G'] winners :  ['T']\n",
      "106058 - serial betrayers ['I', 'A', 'F', 'F'] winners :  ['F']\n",
      "84945 - serial betrayers ['A', 'A'] winners :  ['E']\n",
      "113564 - serial betrayers ['T', 'T'] winners :  ['F']\n",
      "100109 - serial betrayers ['A', 'E', 'E'] winners :  ['F' 'T']\n",
      "89658 - serial betrayers ['A', 'A'] winners :  ['A' 'T']\n"
     ]
    }
   ],
   "source": [
    "# load the data to analyse\n",
    "games_id = np.load(\"data/subset_T500_N1/games_id.npy\")\n",
    "all_friendships = np.load(\"data/subset_T500_N1/friendships.npy\", allow_pickle=True)\n",
    "\n",
    "N = len(games_id)\n",
    "print(\"Analysis of serial betraying\")\n",
    "for i, game_id in enumerate(games_id):\n",
    "    # reconstruct the obtained data\n",
    "    data = all_friendships[i]\n",
    "    years = np.arange(1901, 1901 + data.shape[0] * 0.5, 0.5)\n",
    "    friendships = pd.DataFrame(data = all_friendships[i], columns = pairs, index = years)\n",
    "   \n",
    "    # get treatment 2\n",
    "    betrayers, _ = get_betrayers_and_betrayed(friendships)\n",
    "    winners = get_winners(game_id)\n",
    "    \n",
    "    has_to_skip = False\n",
    "    \n",
    "    if len(betrayers) > 1:\n",
    "        for b in betrayers:\n",
    "            if has_to_skip:\n",
    "                continue\n",
    "            if np.count_nonzero([player == b for player in betrayers]) > 1: \n",
    "                print(game_id, \"- serial betrayers\", betrayers, \"winners : \", winners)\n",
    "                has_to_skip = True"
   ]
  },
  {
   "cell_type": "markdown",
   "metadata": {},
   "source": [
    "# Games where a betrayer is betrayed"
   ]
  },
  {
   "cell_type": "code",
   "execution_count": 194,
   "metadata": {},
   "outputs": [
    {
     "name": "stdout",
     "output_type": "stream",
     "text": [
      "78412 -  betrayers ['A', 'E', 'R']  - victims:  ['R', 'R', 'T']  - winners :  ['E' 'R']\n"
     ]
    }
   ],
   "source": [
    "# load the data to analyse\n",
    "games_id = np.load(\"data/subset_T500_N1/games_id.npy\")\n",
    "all_friendships = np.load(\"data/subset_T500_N1/friendships.npy\", allow_pickle=True)\n",
    "\n",
    "N = len(games_id)\n",
    "for i, game_id in enumerate(games_id):\n",
    "    # reconstruct the obtained data\n",
    "    data = all_friendships[i]\n",
    "    years = np.arange(1901, 1901 + data.shape[0] * 0.5, 0.5)\n",
    "    friendships = pd.DataFrame(data = all_friendships[i], columns = pairs, index = years)\n",
    "   \n",
    "    # get treatment 2\n",
    "    betrayers, betrayeds = get_betrayers_and_betrayed(friendships)\n",
    "    winners = get_winners(game_id)\n",
    "    \n",
    "    \n",
    "    if len(betrayers) > 1:\n",
    "        for b in betrayers:\n",
    "            if np.count_nonzero([player == b for player in betrayeds]) > 1: \n",
    "                print(game_id, \"-  betrayers\", betrayers, \" - victims: \", betrayeds , \" - winners : \", winners)"
   ]
  }
 ],
 "metadata": {
  "kernelspec": {
   "display_name": "Python 3",
   "language": "python",
   "name": "python3"
  },
  "language_info": {
   "codemirror_mode": {
    "name": "ipython",
    "version": 3
   },
   "file_extension": ".py",
   "mimetype": "text/x-python",
   "name": "python",
   "nbconvert_exporter": "python",
   "pygments_lexer": "ipython3",
   "version": "3.8.3"
  }
 },
 "nbformat": 4,
 "nbformat_minor": 4
}
